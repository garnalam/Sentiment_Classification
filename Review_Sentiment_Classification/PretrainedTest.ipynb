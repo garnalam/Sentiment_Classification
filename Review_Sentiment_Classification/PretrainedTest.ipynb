{
  "cells": [
    {
      "cell_type": "code",
      "execution_count": 3,
      "metadata": {
        "id": "t8LBFyKf2azj"
      },
      "outputs": [],
      "source": [
        "import pandas as pd\n",
        "import re\n",
        "import underthesea\n",
        "import os"
      ]
    },
    {
      "cell_type": "code",
      "execution_count": 4,
      "metadata": {
        "id": "rPTvyZJ93fBO"
      },
      "outputs": [],
      "source": [
        "data_path = \"/content/drive/MyDrive/Dataset_For_Work\"\n",
        "test_data_1 = \"/content/drive/MyDrive/Dataset_For_Work/test_raw_ANS.txt\"\n",
        "test_data_2 = \"/content/drive/MyDrive/Dataset_For_Work/test_tokenized_ANS.txt\""
      ]
    },
    {
      "cell_type": "code",
      "execution_count": 5,
      "metadata": {
        "id": "n-zFl-OI3juc"
      },
      "outputs": [],
      "source": [
        "def load_data(file_path, label):\n",
        "    \"\"\"\n",
        "    Đọc dữ liệu từ file và gắn nhãn tương ứng.\n",
        "    Args:\n",
        "        file_path (str): Đường dẫn đến tệp văn bản.\n",
        "        label (str): Nhãn cảm xúc (positive, neutral, negative).\n",
        "    Returns:\n",
        "        data (list): Danh sách chứa các câu và nhãn.\n",
        "    \"\"\"\n",
        "    data = []\n",
        "    with open(file_path, \"r\", encoding=\"utf-8\") as file:\n",
        "        for line in file:\n",
        "            sentence = line.strip()  # Xóa khoảng trắng ở đầu và cuối câu\n",
        "            if sentence:  # Chỉ thêm những câu không rỗng\n",
        "                data.append((sentence, label))\n",
        "    return data"
      ]
    },
    {
      "cell_type": "code",
      "execution_count": 6,
      "metadata": {
        "id": "JiuKSFtJsbAT"
      },
      "outputs": [],
      "source": [
        "def load_test(file_path):\n",
        "    \"\"\"\n",
        "    Đọc dữ liệu từ file và gắn nhãn cảm xúc từ chuỗi đã cho.\n",
        "    Args:\n",
        "        file_path (str): Đường dẫn đến tệp văn bản.\n",
        "    Returns:\n",
        "        data (list): Danh sách chứa các câu và nhãn tương ứng.\n",
        "    \"\"\"\n",
        "    import re\n",
        "\n",
        "    data = []\n",
        "    with open(file_path, \"r\", encoding=\"utf-8\") as file:\n",
        "        text = file.read()  # Đọc toàn bộ nội dung file\n",
        "        split_data = re.split(r'(POS|NEG|NEU)', text.strip())  # Tách dữ liệu theo nhãn\n",
        "        for i in range(0, len(split_data) - 1, 2):  # Lặp qua từng cặp câu và nhãn\n",
        "            sentence = split_data[i].strip()  # Xóa khoảng trắng ở đầu và cuối câu\n",
        "            label = split_data[i + 1]  # Lấy nhãn tương ứng\n",
        "            if sentence:  # Chỉ thêm những câu không rỗng\n",
        "                data.append((sentence, label))\n",
        "    return data"
      ]
    },
    {
      "cell_type": "code",
      "execution_count": 7,
      "metadata": {
        "id": "m2WbvQyI3mAM"
      },
      "outputs": [],
      "source": [
        "def clean_text(text):\n",
        "    \"\"\"\n",
        "    Làm sạch văn bản bằng cách loại bỏ ký tự đặc biệt, số và khoảng trắng thừa.\n",
        "    Args:\n",
        "        text (str): Câu văn bản cần làm sạch.\n",
        "    Returns:\n",
        "        str: Văn bản sau khi làm sạch.\n",
        "    \"\"\"\n",
        "    text = text.lower()  # Chuyển thành chữ thường\n",
        "    text = re.sub(r'\\d+', '', text)  # Loại bỏ số\n",
        "    text = re.sub(r'[^\\w\\s]', '', text)  # Loại bỏ ký tự đặc biệt\n",
        "    text = re.sub(r'\\s+', ' ', text).strip()  # Loại bỏ khoảng trắng thừa\n",
        "    return text"
      ]
    },
    {
      "cell_type": "code",
      "execution_count": 8,
      "metadata": {
        "id": "ND_DdT5Zszig"
      },
      "outputs": [],
      "source": [
        "from underthesea import word_tokenize\n",
        "import pandas as pd\n",
        "\n",
        "# Load stopwords from file\n",
        "stop_words_path = \"/content/drive/MyDrive/Dataset_For_Work/vietnamese-stopwords.txt\"\n",
        "\n",
        "with open(stop_words_path, 'r', encoding='utf-8') as f:\n",
        "    stop_words = set(f.read().splitlines())\n",
        "\n",
        "# Function to remove stopwords\n",
        "def remove_stopwords(sentence):\n",
        "    # Tokenize and filter stopwords\n",
        "    word_tokens = word_tokenize(sentence)\n",
        "    filtered_words = [word for word in word_tokens if word.lower() not in stop_words]\n",
        "    return ' '.join(filtered_words)\n",
        "\n",
        "# Function to map sentiment labels\n",
        "def replace_labels(label):  # Changed here: removed 'df' and kept 'label_column'\n",
        "    sentiment_map = {'POS': 1, 'NEG': -1, 'NEU': 0}\n",
        "    return sentiment_map.get(label, label)"
      ]
    },
    {
      "cell_type": "code",
      "execution_count": 9,
      "metadata": {
        "colab": {
          "base_uri": "https://localhost:8080/"
        },
        "id": "hG5frxPq31lI",
        "outputId": "0dcd3669-087f-4b7f-84ed-fc63c5463f8a"
      },
      "outputs": [
        {
          "name": "stdout",
          "output_type": "stream",
          "text": [
            "                                            Sentence Label\n",
            "0  đang xài mx dùng bình thường ngon pin trâu mỗi...   POS\n",
            "1  qủa pin ngon sạc lại được bền riêng em dùng pi...   POS\n",
            "2  cũng đang xài con logitech bluetooth tầm thấp ...   POS\n",
            "3  logitech pin trâu thôi rôi mua con b cui ma cu...   POS\n",
            "4  em có con chuột không dây k cũng đầy đủ nút bấ...   POS\n"
          ]
        }
      ],
      "source": [
        "# Đọc dữ liệu từ các tệp và gắn nhãn\n",
        "positive_data = load_data(os.path.join(data_path, \"SA-training_positive.txt\"), \"POS\")\n",
        "neutral_data = load_data(os.path.join(data_path, \"SA-training_neutral.txt\"), \"NEU\")\n",
        "negative_data = load_data(os.path.join(data_path, \"SA-training_negative.txt\"), \"NEG\")\n",
        "\n",
        "# Kết hợp tất cả dữ liệu\n",
        "all_data = positive_data + neutral_data + negative_data\n",
        "\n",
        "# Tiền xử lý văn bản\n",
        "cleaned_data = [(clean_text(sentence), label) for sentence, label in all_data]\n",
        "\n",
        "# Chuyển dữ liệu sang DataFrame\n",
        "df = pd.DataFrame(cleaned_data, columns=[\"Sentence\", \"Label\"])\n",
        "\n",
        "# Hiển thị một vài dòng đầu tiên\n",
        "print(df.head())"
      ]
    },
    {
      "cell_type": "code",
      "execution_count": 10,
      "metadata": {
        "colab": {
          "base_uri": "https://localhost:8080/"
        },
        "id": "4oxhiRZHtUO8",
        "outputId": "0980075b-8b87-47c7-fa3a-92955822a216"
      },
      "outputs": [
        {
          "name": "stdout",
          "output_type": "stream",
          "text": [
            "                                            Sentence Label\n",
            "0  không nên mua chuột cua logitech vì dùng nó rấ...   POS\n",
            "1  nói thiệt là mình thì thì chuột nào mình cũng ...   NEG\n",
            "2                  xai chuot so nhat bi double click   NEU\n",
            "3  cơ bản là thiết kế ôm chuột chưa đã như hiện g...   POS\n",
            "4  đang dùng mx cũng ngon nhưng chưa đầy năm mà đ...   NEG\n"
          ]
        }
      ],
      "source": [
        "test = load_test(test_data_1)\n",
        "cleaned_data = [(clean_text(sentence), label) for sentence, label in test]\n",
        "tf1 = pd.DataFrame(cleaned_data, columns=[\"Sentence\", \"Label\"])\n",
        "print(tf1.head())"
      ]
    },
    {
      "cell_type": "code",
      "execution_count": 11,
      "metadata": {
        "colab": {
          "base_uri": "https://localhost:8080/"
        },
        "id": "v24bAn-3YtMk",
        "outputId": "17dfeb4c-b922-4960-c8af-719dd06621bd"
      },
      "outputs": [
        {
          "name": "stdout",
          "output_type": "stream",
          "text": [
            "                                            Sentence Label\n",
            "0  không nên mua chuột cua logitech vì dùng nó rấ...   POS\n",
            "1  nói thiệt là mình thì thì chuột nào mình cũng ...   NEG\n",
            "2                  xai chuot so nhat bi double_click   NEU\n",
            "3  cơ_bản là thiết_kế ôm chuột chưa đã như hiện_g...   POS\n",
            "4  đang dùng mx_ cũng ngon nhưng chưa đầy_năm mà ...   NEG\n"
          ]
        }
      ],
      "source": [
        "test = load_test(test_data_2)\n",
        "cleaned_data = [(clean_text(sentence), label) for sentence, label in test]\n",
        "tf2 = pd.DataFrame(cleaned_data, columns=[\"Sentence\", \"Label\"])\n",
        "print(tf2.head())"
      ]
    },
    {
      "cell_type": "code",
      "execution_count": 12,
      "metadata": {
        "colab": {
          "base_uri": "https://localhost:8080/"
        },
        "id": "d210Eimm3pjM",
        "outputId": "b6c2383d-146b-4a5f-853b-4d083c2d602a"
      },
      "outputs": [
        {
          "name": "stdout",
          "output_type": "stream",
          "text": [
            "Dữ liệu sau khi xử lý:\n",
            "                                            Sentence  Label\n",
            "0  xài mx bình thường ngon pin trâu tội thằng chỗ...      1\n",
            "1               pin ngon sạc bền pin aa aaa thay thế      1\n",
            "2      xài logitech bluetooth tầm m xài đc ngon chán      1\n",
            "3  logitech pin trâu thôi rôi mua b cui ma cuc pi...      1\n",
            "4                chuột dây k đầy đủ nút bấm pin thay      1\n"
          ]
        }
      ],
      "source": [
        "df['Sentence'] = df['Sentence'].apply(remove_stopwords)\n",
        "df['Label'] = df['Label'].apply(replace_labels)\n",
        "\n",
        "# Display updated DataFrame\n",
        "print(\"Dữ liệu sau khi xử lý:\")\n",
        "print(df.head())"
      ]
    },
    {
      "cell_type": "code",
      "execution_count": 13,
      "metadata": {
        "colab": {
          "base_uri": "https://localhost:8080/"
        },
        "id": "H7NOYaWVvZBU",
        "outputId": "3cb648e1-d474-4181-be39-eaead4de47f6"
      },
      "outputs": [
        {
          "name": "stdout",
          "output_type": "stream",
          "text": [
            "Dữ liệu sau khi xử lý:\n",
            "                                            Sentence  Label\n",
            "0  mua chuột cua logitech đổi thằng xúi mua m cơ ...      1\n",
            "1  thiệt chuột tuốt trừ hãng razer sở hữu da blac...     -1\n",
            "2                     xai chuot nhat bi double click      0\n",
            "3  cơ bản thiết kế ôm chuột hiện giờ chuột hàng n...      1\n",
            "4              mx ngon tháo thay nút bấm may lột máy     -1\n"
          ]
        }
      ],
      "source": [
        "tf1['Sentence'] = tf1['Sentence'].apply(remove_stopwords)\n",
        "tf1['Label'] = tf1['Label'].apply(replace_labels)\n",
        "\n",
        "# Display updated DataFrame\n",
        "print(\"Dữ liệu sau khi xử lý:\")\n",
        "print(tf1.head())"
      ]
    },
    {
      "cell_type": "code",
      "execution_count": 14,
      "metadata": {
        "colab": {
          "base_uri": "https://localhost:8080/"
        },
        "id": "V3LA9PBiY_O1",
        "outputId": "13c57176-1082-4031-f271-1477f02fc81f"
      },
      "outputs": [
        {
          "name": "stdout",
          "output_type": "stream",
          "text": [
            "Dữ liệu sau khi xử lý:\n",
            "                                            Sentence  Label\n",
            "0  mua chuột cua logitech đổi thằng xúi mua m cơ_...      1\n",
            "1  thiệt chuột tuốt trừ hãng razer sở_hữu da blac...     -1\n",
            "2                     xai chuot nhat bi double_click      0\n",
            "3  cơ_bản thiết_kế ôm chuột hiện_giờ chuột hàng n...      1\n",
            "4     mx_ ngon đầy_năm tháo thay nút bấm may lột máy     -1\n"
          ]
        }
      ],
      "source": [
        "tf2['Sentence'] = tf2['Sentence'].apply(remove_stopwords)\n",
        "tf2['Label'] = tf2['Label'].apply(replace_labels)\n",
        "\n",
        "# Display updated DataFrame\n",
        "print(\"Dữ liệu sau khi xử lý:\")\n",
        "print(tf2.head())"
      ]
    },
    {
      "cell_type": "code",
      "execution_count": null,
      "metadata": {
        "id": "MDuSb8Yq6rH3"
      },
      "outputs": [],
      "source": [
        "from gensim.models import Word2Vec\n",
        "from underthesea import word_tokenize\n",
        "\n",
        "# Chuẩn bị dữ liệu cho Word2Vec\n",
        "# Mỗi câu cần được token hóa thành danh sách từ\n",
        "tokenized_sentences = df['Sentence'].apply(word_tokenize).tolist()\n",
        "\n",
        "# Huấn luyện mô hình Word2Vec\n",
        "word2vec_model = Word2Vec(\n",
        "    sentences=tokenized_sentences,  # Câu đã được token hóa\n",
        "    vector_size=100,               # Kích thước vector\n",
        "    window=5,                      # Kích thước cửa sổ ngữ cảnh\n",
        "    min_count=1,                   # Bỏ qua từ xuất hiện ít hơn 1 lần\n",
        "    sg=1,                          # Sử dụng Skip-Gram (0 cho CBOW)\n",
        "    epochs=10                      # Số lần huấn luyện\n",
        ")"
      ]
    },
    {
      "cell_type": "code",
      "execution_count": null,
      "metadata": {
        "id": "FrJpNxSV8SMq"
      },
      "outputs": [],
      "source": [
        "# Lấy vector của từ \"khách_sạn\"\n",
        "word_vector = word2vec_model.wv['pin']\n",
        "print(\"Vector của từ 'pin':\", word_vector)"
      ]
    },
    {
      "cell_type": "code",
      "execution_count": null,
      "metadata": {
        "id": "ZaIxiel_88iH"
      },
      "outputs": [],
      "source": [
        "import numpy as np\n",
        "\n",
        "def sentence_to_vector(sentence, model):\n",
        "    # Tokenize câu\n",
        "    tokens = word_tokenize(sentence)\n",
        "    # Lấy vector của từng từ, nếu từ không tồn tại trong từ điển thì bỏ qua\n",
        "    vectors = [model.wv[word] for word in tokens if word in model.wv]\n",
        "    # Tính trung bình các vector từ\n",
        "    if len(vectors) > 0:\n",
        "        return np.mean(vectors, axis=0)\n",
        "    else:\n",
        "        return np.zeros(model.vector_size)  # Vector rỗng nếu không có từ hợp lệ"
      ]
    },
    {
      "cell_type": "code",
      "execution_count": null,
      "metadata": {
        "id": "kDDW2BPILIV2"
      },
      "outputs": [],
      "source": [
        "# Biểu diễn toàn bộ tập dữ liệu\n",
        "df['Sentence_Vector'] = df['Sentence'].apply(lambda x: sentence_to_vector(x, word2vec_model))\n",
        "\n",
        "# Hiển thị một vài dòng đầu tiên\n",
        "print(df.head())"
      ]
    },
    {
      "cell_type": "code",
      "execution_count": null,
      "metadata": {
        "id": "3wVg1HTFxde2"
      },
      "outputs": [],
      "source": [
        "# Biểu diễn toàn bộ tập dữ liệu\n",
        "tf1['Sentence_Vector'] = tf1['Sentence'].apply(lambda x: sentence_to_vector(x, word2vec_model))\n",
        "\n",
        "# Hiển thị một vài dòng đầu tiên\n",
        "print(tf1.head())"
      ]
    },
    {
      "cell_type": "code",
      "execution_count": null,
      "metadata": {
        "id": "Gwkn7i-Favpu"
      },
      "outputs": [],
      "source": [
        "# Biểu diễn toàn bộ tập dữ liệu\n",
        "tf2['Sentence_Vector'] = tf2['Sentence'].apply(lambda x: sentence_to_vector(x, word2vec_model))\n",
        "\n",
        "# Hiển thị một vài dòng đầu tiên\n",
        "print(tf2.head())"
      ]
    },
    {
      "cell_type": "code",
      "execution_count": 16,
      "metadata": {
        "id": "oho2oNCQjHkR"
      },
      "outputs": [],
      "source": [
        "import gensim.downloader as api\n",
        "\n",
        "# Download the Word2Vec Google News model\n",
        "w2v_model = api.load(\"word2vec-google-news-300\")  # Downloads the pretrained model\n",
        "\n",
        "def get_sentence_vector(sentence, model):\n",
        "    words = sentence.split()\n",
        "    # Use model[word] directly to access vectors in pre-trained model\n",
        "    word_vectors = [model[word] for word in words if word in model]\n",
        "    if word_vectors:\n",
        "        return np.mean(word_vectors, axis=0)\n",
        "    else:\n",
        "        return np.zeros(model.vector_size)\n",
        "\n",
        "# Prepare training data\n",
        "X_train = [get_sentence_vector(sentence, w2v_model) for sentence in df['Sentence']]\n",
        "y_train = df['Label']"
      ]
    },
    {
      "cell_type": "code",
      "execution_count": 17,
      "metadata": {
        "colab": {
          "base_uri": "https://localhost:8080/",
          "height": 80
        },
        "id": "G7p4vaXJh1ko",
        "outputId": "9aa9311d-288a-425e-953c-eb431ef12851"
      },
      "outputs": [
        {
          "data": {
            "text/html": [
              "<style>#sk-container-id-1 {\n",
              "  /* Definition of color scheme common for light and dark mode */\n",
              "  --sklearn-color-text: black;\n",
              "  --sklearn-color-line: gray;\n",
              "  /* Definition of color scheme for unfitted estimators */\n",
              "  --sklearn-color-unfitted-level-0: #fff5e6;\n",
              "  --sklearn-color-unfitted-level-1: #f6e4d2;\n",
              "  --sklearn-color-unfitted-level-2: #ffe0b3;\n",
              "  --sklearn-color-unfitted-level-3: chocolate;\n",
              "  /* Definition of color scheme for fitted estimators */\n",
              "  --sklearn-color-fitted-level-0: #f0f8ff;\n",
              "  --sklearn-color-fitted-level-1: #d4ebff;\n",
              "  --sklearn-color-fitted-level-2: #b3dbfd;\n",
              "  --sklearn-color-fitted-level-3: cornflowerblue;\n",
              "\n",
              "  /* Specific color for light theme */\n",
              "  --sklearn-color-text-on-default-background: var(--sg-text-color, var(--theme-code-foreground, var(--jp-content-font-color1, black)));\n",
              "  --sklearn-color-background: var(--sg-background-color, var(--theme-background, var(--jp-layout-color0, white)));\n",
              "  --sklearn-color-border-box: var(--sg-text-color, var(--theme-code-foreground, var(--jp-content-font-color1, black)));\n",
              "  --sklearn-color-icon: #696969;\n",
              "\n",
              "  @media (prefers-color-scheme: dark) {\n",
              "    /* Redefinition of color scheme for dark theme */\n",
              "    --sklearn-color-text-on-default-background: var(--sg-text-color, var(--theme-code-foreground, var(--jp-content-font-color1, white)));\n",
              "    --sklearn-color-background: var(--sg-background-color, var(--theme-background, var(--jp-layout-color0, #111)));\n",
              "    --sklearn-color-border-box: var(--sg-text-color, var(--theme-code-foreground, var(--jp-content-font-color1, white)));\n",
              "    --sklearn-color-icon: #878787;\n",
              "  }\n",
              "}\n",
              "\n",
              "#sk-container-id-1 {\n",
              "  color: var(--sklearn-color-text);\n",
              "}\n",
              "\n",
              "#sk-container-id-1 pre {\n",
              "  padding: 0;\n",
              "}\n",
              "\n",
              "#sk-container-id-1 input.sk-hidden--visually {\n",
              "  border: 0;\n",
              "  clip: rect(1px 1px 1px 1px);\n",
              "  clip: rect(1px, 1px, 1px, 1px);\n",
              "  height: 1px;\n",
              "  margin: -1px;\n",
              "  overflow: hidden;\n",
              "  padding: 0;\n",
              "  position: absolute;\n",
              "  width: 1px;\n",
              "}\n",
              "\n",
              "#sk-container-id-1 div.sk-dashed-wrapped {\n",
              "  border: 1px dashed var(--sklearn-color-line);\n",
              "  margin: 0 0.4em 0.5em 0.4em;\n",
              "  box-sizing: border-box;\n",
              "  padding-bottom: 0.4em;\n",
              "  background-color: var(--sklearn-color-background);\n",
              "}\n",
              "\n",
              "#sk-container-id-1 div.sk-container {\n",
              "  /* jupyter's `normalize.less` sets `[hidden] { display: none; }`\n",
              "     but bootstrap.min.css set `[hidden] { display: none !important; }`\n",
              "     so we also need the `!important` here to be able to override the\n",
              "     default hidden behavior on the sphinx rendered scikit-learn.org.\n",
              "     See: https://github.com/scikit-learn/scikit-learn/issues/21755 */\n",
              "  display: inline-block !important;\n",
              "  position: relative;\n",
              "}\n",
              "\n",
              "#sk-container-id-1 div.sk-text-repr-fallback {\n",
              "  display: none;\n",
              "}\n",
              "\n",
              "div.sk-parallel-item,\n",
              "div.sk-serial,\n",
              "div.sk-item {\n",
              "  /* draw centered vertical line to link estimators */\n",
              "  background-image: linear-gradient(var(--sklearn-color-text-on-default-background), var(--sklearn-color-text-on-default-background));\n",
              "  background-size: 2px 100%;\n",
              "  background-repeat: no-repeat;\n",
              "  background-position: center center;\n",
              "}\n",
              "\n",
              "/* Parallel-specific style estimator block */\n",
              "\n",
              "#sk-container-id-1 div.sk-parallel-item::after {\n",
              "  content: \"\";\n",
              "  width: 100%;\n",
              "  border-bottom: 2px solid var(--sklearn-color-text-on-default-background);\n",
              "  flex-grow: 1;\n",
              "}\n",
              "\n",
              "#sk-container-id-1 div.sk-parallel {\n",
              "  display: flex;\n",
              "  align-items: stretch;\n",
              "  justify-content: center;\n",
              "  background-color: var(--sklearn-color-background);\n",
              "  position: relative;\n",
              "}\n",
              "\n",
              "#sk-container-id-1 div.sk-parallel-item {\n",
              "  display: flex;\n",
              "  flex-direction: column;\n",
              "}\n",
              "\n",
              "#sk-container-id-1 div.sk-parallel-item:first-child::after {\n",
              "  align-self: flex-end;\n",
              "  width: 50%;\n",
              "}\n",
              "\n",
              "#sk-container-id-1 div.sk-parallel-item:last-child::after {\n",
              "  align-self: flex-start;\n",
              "  width: 50%;\n",
              "}\n",
              "\n",
              "#sk-container-id-1 div.sk-parallel-item:only-child::after {\n",
              "  width: 0;\n",
              "}\n",
              "\n",
              "/* Serial-specific style estimator block */\n",
              "\n",
              "#sk-container-id-1 div.sk-serial {\n",
              "  display: flex;\n",
              "  flex-direction: column;\n",
              "  align-items: center;\n",
              "  background-color: var(--sklearn-color-background);\n",
              "  padding-right: 1em;\n",
              "  padding-left: 1em;\n",
              "}\n",
              "\n",
              "\n",
              "/* Toggleable style: style used for estimator/Pipeline/ColumnTransformer box that is\n",
              "clickable and can be expanded/collapsed.\n",
              "- Pipeline and ColumnTransformer use this feature and define the default style\n",
              "- Estimators will overwrite some part of the style using the `sk-estimator` class\n",
              "*/\n",
              "\n",
              "/* Pipeline and ColumnTransformer style (default) */\n",
              "\n",
              "#sk-container-id-1 div.sk-toggleable {\n",
              "  /* Default theme specific background. It is overwritten whether we have a\n",
              "  specific estimator or a Pipeline/ColumnTransformer */\n",
              "  background-color: var(--sklearn-color-background);\n",
              "}\n",
              "\n",
              "/* Toggleable label */\n",
              "#sk-container-id-1 label.sk-toggleable__label {\n",
              "  cursor: pointer;\n",
              "  display: block;\n",
              "  width: 100%;\n",
              "  margin-bottom: 0;\n",
              "  padding: 0.5em;\n",
              "  box-sizing: border-box;\n",
              "  text-align: center;\n",
              "}\n",
              "\n",
              "#sk-container-id-1 label.sk-toggleable__label-arrow:before {\n",
              "  /* Arrow on the left of the label */\n",
              "  content: \"▸\";\n",
              "  float: left;\n",
              "  margin-right: 0.25em;\n",
              "  color: var(--sklearn-color-icon);\n",
              "}\n",
              "\n",
              "#sk-container-id-1 label.sk-toggleable__label-arrow:hover:before {\n",
              "  color: var(--sklearn-color-text);\n",
              "}\n",
              "\n",
              "/* Toggleable content - dropdown */\n",
              "\n",
              "#sk-container-id-1 div.sk-toggleable__content {\n",
              "  max-height: 0;\n",
              "  max-width: 0;\n",
              "  overflow: hidden;\n",
              "  text-align: left;\n",
              "  /* unfitted */\n",
              "  background-color: var(--sklearn-color-unfitted-level-0);\n",
              "}\n",
              "\n",
              "#sk-container-id-1 div.sk-toggleable__content.fitted {\n",
              "  /* fitted */\n",
              "  background-color: var(--sklearn-color-fitted-level-0);\n",
              "}\n",
              "\n",
              "#sk-container-id-1 div.sk-toggleable__content pre {\n",
              "  margin: 0.2em;\n",
              "  border-radius: 0.25em;\n",
              "  color: var(--sklearn-color-text);\n",
              "  /* unfitted */\n",
              "  background-color: var(--sklearn-color-unfitted-level-0);\n",
              "}\n",
              "\n",
              "#sk-container-id-1 div.sk-toggleable__content.fitted pre {\n",
              "  /* unfitted */\n",
              "  background-color: var(--sklearn-color-fitted-level-0);\n",
              "}\n",
              "\n",
              "#sk-container-id-1 input.sk-toggleable__control:checked~div.sk-toggleable__content {\n",
              "  /* Expand drop-down */\n",
              "  max-height: 200px;\n",
              "  max-width: 100%;\n",
              "  overflow: auto;\n",
              "}\n",
              "\n",
              "#sk-container-id-1 input.sk-toggleable__control:checked~label.sk-toggleable__label-arrow:before {\n",
              "  content: \"▾\";\n",
              "}\n",
              "\n",
              "/* Pipeline/ColumnTransformer-specific style */\n",
              "\n",
              "#sk-container-id-1 div.sk-label input.sk-toggleable__control:checked~label.sk-toggleable__label {\n",
              "  color: var(--sklearn-color-text);\n",
              "  background-color: var(--sklearn-color-unfitted-level-2);\n",
              "}\n",
              "\n",
              "#sk-container-id-1 div.sk-label.fitted input.sk-toggleable__control:checked~label.sk-toggleable__label {\n",
              "  background-color: var(--sklearn-color-fitted-level-2);\n",
              "}\n",
              "\n",
              "/* Estimator-specific style */\n",
              "\n",
              "/* Colorize estimator box */\n",
              "#sk-container-id-1 div.sk-estimator input.sk-toggleable__control:checked~label.sk-toggleable__label {\n",
              "  /* unfitted */\n",
              "  background-color: var(--sklearn-color-unfitted-level-2);\n",
              "}\n",
              "\n",
              "#sk-container-id-1 div.sk-estimator.fitted input.sk-toggleable__control:checked~label.sk-toggleable__label {\n",
              "  /* fitted */\n",
              "  background-color: var(--sklearn-color-fitted-level-2);\n",
              "}\n",
              "\n",
              "#sk-container-id-1 div.sk-label label.sk-toggleable__label,\n",
              "#sk-container-id-1 div.sk-label label {\n",
              "  /* The background is the default theme color */\n",
              "  color: var(--sklearn-color-text-on-default-background);\n",
              "}\n",
              "\n",
              "/* On hover, darken the color of the background */\n",
              "#sk-container-id-1 div.sk-label:hover label.sk-toggleable__label {\n",
              "  color: var(--sklearn-color-text);\n",
              "  background-color: var(--sklearn-color-unfitted-level-2);\n",
              "}\n",
              "\n",
              "/* Label box, darken color on hover, fitted */\n",
              "#sk-container-id-1 div.sk-label.fitted:hover label.sk-toggleable__label.fitted {\n",
              "  color: var(--sklearn-color-text);\n",
              "  background-color: var(--sklearn-color-fitted-level-2);\n",
              "}\n",
              "\n",
              "/* Estimator label */\n",
              "\n",
              "#sk-container-id-1 div.sk-label label {\n",
              "  font-family: monospace;\n",
              "  font-weight: bold;\n",
              "  display: inline-block;\n",
              "  line-height: 1.2em;\n",
              "}\n",
              "\n",
              "#sk-container-id-1 div.sk-label-container {\n",
              "  text-align: center;\n",
              "}\n",
              "\n",
              "/* Estimator-specific */\n",
              "#sk-container-id-1 div.sk-estimator {\n",
              "  font-family: monospace;\n",
              "  border: 1px dotted var(--sklearn-color-border-box);\n",
              "  border-radius: 0.25em;\n",
              "  box-sizing: border-box;\n",
              "  margin-bottom: 0.5em;\n",
              "  /* unfitted */\n",
              "  background-color: var(--sklearn-color-unfitted-level-0);\n",
              "}\n",
              "\n",
              "#sk-container-id-1 div.sk-estimator.fitted {\n",
              "  /* fitted */\n",
              "  background-color: var(--sklearn-color-fitted-level-0);\n",
              "}\n",
              "\n",
              "/* on hover */\n",
              "#sk-container-id-1 div.sk-estimator:hover {\n",
              "  /* unfitted */\n",
              "  background-color: var(--sklearn-color-unfitted-level-2);\n",
              "}\n",
              "\n",
              "#sk-container-id-1 div.sk-estimator.fitted:hover {\n",
              "  /* fitted */\n",
              "  background-color: var(--sklearn-color-fitted-level-2);\n",
              "}\n",
              "\n",
              "/* Specification for estimator info (e.g. \"i\" and \"?\") */\n",
              "\n",
              "/* Common style for \"i\" and \"?\" */\n",
              "\n",
              ".sk-estimator-doc-link,\n",
              "a:link.sk-estimator-doc-link,\n",
              "a:visited.sk-estimator-doc-link {\n",
              "  float: right;\n",
              "  font-size: smaller;\n",
              "  line-height: 1em;\n",
              "  font-family: monospace;\n",
              "  background-color: var(--sklearn-color-background);\n",
              "  border-radius: 1em;\n",
              "  height: 1em;\n",
              "  width: 1em;\n",
              "  text-decoration: none !important;\n",
              "  margin-left: 1ex;\n",
              "  /* unfitted */\n",
              "  border: var(--sklearn-color-unfitted-level-1) 1pt solid;\n",
              "  color: var(--sklearn-color-unfitted-level-1);\n",
              "}\n",
              "\n",
              ".sk-estimator-doc-link.fitted,\n",
              "a:link.sk-estimator-doc-link.fitted,\n",
              "a:visited.sk-estimator-doc-link.fitted {\n",
              "  /* fitted */\n",
              "  border: var(--sklearn-color-fitted-level-1) 1pt solid;\n",
              "  color: var(--sklearn-color-fitted-level-1);\n",
              "}\n",
              "\n",
              "/* On hover */\n",
              "div.sk-estimator:hover .sk-estimator-doc-link:hover,\n",
              ".sk-estimator-doc-link:hover,\n",
              "div.sk-label-container:hover .sk-estimator-doc-link:hover,\n",
              ".sk-estimator-doc-link:hover {\n",
              "  /* unfitted */\n",
              "  background-color: var(--sklearn-color-unfitted-level-3);\n",
              "  color: var(--sklearn-color-background);\n",
              "  text-decoration: none;\n",
              "}\n",
              "\n",
              "div.sk-estimator.fitted:hover .sk-estimator-doc-link.fitted:hover,\n",
              ".sk-estimator-doc-link.fitted:hover,\n",
              "div.sk-label-container:hover .sk-estimator-doc-link.fitted:hover,\n",
              ".sk-estimator-doc-link.fitted:hover {\n",
              "  /* fitted */\n",
              "  background-color: var(--sklearn-color-fitted-level-3);\n",
              "  color: var(--sklearn-color-background);\n",
              "  text-decoration: none;\n",
              "}\n",
              "\n",
              "/* Span, style for the box shown on hovering the info icon */\n",
              ".sk-estimator-doc-link span {\n",
              "  display: none;\n",
              "  z-index: 9999;\n",
              "  position: relative;\n",
              "  font-weight: normal;\n",
              "  right: .2ex;\n",
              "  padding: .5ex;\n",
              "  margin: .5ex;\n",
              "  width: min-content;\n",
              "  min-width: 20ex;\n",
              "  max-width: 50ex;\n",
              "  color: var(--sklearn-color-text);\n",
              "  box-shadow: 2pt 2pt 4pt #999;\n",
              "  /* unfitted */\n",
              "  background: var(--sklearn-color-unfitted-level-0);\n",
              "  border: .5pt solid var(--sklearn-color-unfitted-level-3);\n",
              "}\n",
              "\n",
              ".sk-estimator-doc-link.fitted span {\n",
              "  /* fitted */\n",
              "  background: var(--sklearn-color-fitted-level-0);\n",
              "  border: var(--sklearn-color-fitted-level-3);\n",
              "}\n",
              "\n",
              ".sk-estimator-doc-link:hover span {\n",
              "  display: block;\n",
              "}\n",
              "\n",
              "/* \"?\"-specific style due to the `<a>` HTML tag */\n",
              "\n",
              "#sk-container-id-1 a.estimator_doc_link {\n",
              "  float: right;\n",
              "  font-size: 1rem;\n",
              "  line-height: 1em;\n",
              "  font-family: monospace;\n",
              "  background-color: var(--sklearn-color-background);\n",
              "  border-radius: 1rem;\n",
              "  height: 1rem;\n",
              "  width: 1rem;\n",
              "  text-decoration: none;\n",
              "  /* unfitted */\n",
              "  color: var(--sklearn-color-unfitted-level-1);\n",
              "  border: var(--sklearn-color-unfitted-level-1) 1pt solid;\n",
              "}\n",
              "\n",
              "#sk-container-id-1 a.estimator_doc_link.fitted {\n",
              "  /* fitted */\n",
              "  border: var(--sklearn-color-fitted-level-1) 1pt solid;\n",
              "  color: var(--sklearn-color-fitted-level-1);\n",
              "}\n",
              "\n",
              "/* On hover */\n",
              "#sk-container-id-1 a.estimator_doc_link:hover {\n",
              "  /* unfitted */\n",
              "  background-color: var(--sklearn-color-unfitted-level-3);\n",
              "  color: var(--sklearn-color-background);\n",
              "  text-decoration: none;\n",
              "}\n",
              "\n",
              "#sk-container-id-1 a.estimator_doc_link.fitted:hover {\n",
              "  /* fitted */\n",
              "  background-color: var(--sklearn-color-fitted-level-3);\n",
              "}\n",
              "</style><div id=\"sk-container-id-1\" class=\"sk-top-container\"><div class=\"sk-text-repr-fallback\"><pre>RandomForestClassifier()</pre><b>In a Jupyter environment, please rerun this cell to show the HTML representation or trust the notebook. <br />On GitHub, the HTML representation is unable to render, please try loading this page with nbviewer.org.</b></div><div class=\"sk-container\" hidden><div class=\"sk-item\"><div class=\"sk-estimator fitted sk-toggleable\"><input class=\"sk-toggleable__control sk-hidden--visually\" id=\"sk-estimator-id-1\" type=\"checkbox\" checked><label for=\"sk-estimator-id-1\" class=\"sk-toggleable__label fitted sk-toggleable__label-arrow fitted\">&nbsp;&nbsp;RandomForestClassifier<a class=\"sk-estimator-doc-link fitted\" rel=\"noreferrer\" target=\"_blank\" href=\"https://scikit-learn.org/1.5/modules/generated/sklearn.ensemble.RandomForestClassifier.html\">?<span>Documentation for RandomForestClassifier</span></a><span class=\"sk-estimator-doc-link fitted\">i<span>Fitted</span></span></label><div class=\"sk-toggleable__content fitted\"><pre>RandomForestClassifier()</pre></div> </div></div></div></div>"
            ],
            "text/plain": [
              "RandomForestClassifier()"
            ]
          },
          "execution_count": 17,
          "metadata": {},
          "output_type": "execute_result"
        }
      ],
      "source": [
        "from sklearn.ensemble import RandomForestClassifier\n",
        "\n",
        "# Fit Logistic Regression model\n",
        "classifier = RandomForestClassifier(n_estimators=100)\n",
        "classifier.fit(X_train, y_train)"
      ]
    },
    {
      "cell_type": "code",
      "execution_count": null,
      "metadata": {
        "id": "mYSbIfRDiUHl"
      },
      "outputs": [],
      "source": [
        "from sklearn.linear_model import LogisticRegression\n",
        "\n",
        "classifier = LogisticRegression(multi_class='multinomial', solver='lbfgs')\n",
        "classifier.fit(X_train, y_train)"
      ]
    },
    {
      "cell_type": "code",
      "execution_count": 18,
      "metadata": {
        "colab": {
          "base_uri": "https://localhost:8080/"
        },
        "id": "Fx1V-uIDZiZG",
        "outputId": "76bcd895-40ca-41fe-c0f8-c9be18892669"
      },
      "outputs": [
        {
          "name": "stdout",
          "output_type": "stream",
          "text": [
            "Accuracy: 0.45\n",
            "\n",
            "Predictions Table:\n",
            "                                               Sentence True Label  \\\n",
            "0     mua chuột cua logitech đổi thằng xúi mua m cơ ...   Positive   \n",
            "1     thiệt chuột tuốt trừ hãng razer sở hữu da blac...   Negative   \n",
            "2                        xai chuot nhat bi double click    Neutral   \n",
            "3     cơ bản thiết kế ôm chuột hiện giờ chuột hàng n...   Positive   \n",
            "4                 mx ngon tháo thay nút bấm may lột máy   Negative   \n",
            "...                                                 ...        ...   \n",
            "1045                                    xấu khủng khiếp   Negative   \n",
            "1046     mẹ đài loan mua iphone plus i đổi máy chờ quen    Neutral   \n",
            "1047         tùng minh nguyễn điện thoại vk may cảm ứng    Neutral   \n",
            "1048  mua g bộ nhớ g ko thẻ yếu chụp ảnh game cân nh...   Negative   \n",
            "1049  sản phẩm gionee tốt minh dung s camera đêm ko ...   Positive   \n",
            "\n",
            "     Predicted Label  \n",
            "0            Neutral  \n",
            "1           Negative  \n",
            "2           Negative  \n",
            "3            Neutral  \n",
            "4           Positive  \n",
            "...              ...  \n",
            "1045        Positive  \n",
            "1046        Positive  \n",
            "1047        Negative  \n",
            "1048         Neutral  \n",
            "1049        Negative  \n",
            "\n",
            "[1050 rows x 3 columns]\n",
            "\n",
            "Classification Report:\n",
            "              precision    recall  f1-score   support\n",
            "\n",
            "    Negative       0.43      0.33      0.37       350\n",
            "     Neutral       0.45      0.54      0.49       350\n",
            "    Positive       0.46      0.49      0.47       350\n",
            "\n",
            "    accuracy                           0.45      1050\n",
            "   macro avg       0.45      0.45      0.45      1050\n",
            "weighted avg       0.45      0.45      0.45      1050\n",
            "\n"
          ]
        }
      ],
      "source": [
        "# Prepare test data\n",
        "X_test_1 = [get_sentence_vector(sentence, w2v_model) for sentence in tf1['Sentence']]\n",
        "y_test_1 = tf1['Label']\n",
        "\n",
        "# Predict labels for test data\n",
        "y_pred_1 = classifier.predict(X_test_1)\n",
        "\n",
        "# Calculate accuracy\n",
        "accuracy = accuracy_score(y_test_1, y_pred_1)\n",
        "\n",
        "# Display accuracy\n",
        "print(f\"Accuracy: {accuracy:.2f}\")\n",
        "\n",
        "# Create a table to display results\n",
        "results_df = pd.DataFrame({\n",
        "    'Sentence': tf1['Sentence'],\n",
        "    'True Label': y_test_1,\n",
        "    'Predicted Label': y_pred_1\n",
        "})\n",
        "\n",
        "# Map numeric labels to text (Optional)\n",
        "label_mapping = {1: 'Positive', -1: 'Negative', 0: 'Neutral'}\n",
        "results_df['True Label'] = results_df['True Label'].map(label_mapping)\n",
        "results_df['Predicted Label'] = results_df['Predicted Label'].map(label_mapping)\n",
        "\n",
        "# Display the table\n",
        "print(\"\\nPredictions Table:\")\n",
        "print(results_df)\n",
        "\n",
        "# Display classification report\n",
        "print(\"\\nClassification Report:\")\n",
        "print(classification_report(y_test_1, y_pred_1, target_names=[\"Negative\", \"Neutral\", \"Positive\"]))"
      ]
    },
    {
      "cell_type": "code",
      "execution_count": null,
      "metadata": {
        "id": "0nm-H70JZnvz"
      },
      "outputs": [],
      "source": [
        "X_test_2 = [get_sentence_vector(sentence, w2v_model) for sentence in tf2['Sentence']]\n",
        "y_test_2 = tf2['Label']\n",
        "\n",
        "# Predict labels for test data\n",
        "y_pred_2 = classifier.predict(X_test_2)\n",
        "\n",
        "# Calculate accuracy\n",
        "accuracy = accuracy_score(y_test_2, y_pred_2)\n",
        "\n",
        "# Display accuracy\n",
        "print(f\"Accuracy: {accuracy:.2f}\")\n",
        "\n",
        "# Create a table to display results\n",
        "results_df = pd.DataFrame({\n",
        "    'Sentence': tf2['Sentence'],\n",
        "    'True Label': y_test_2,\n",
        "    'Predicted Label': y_pred_2\n",
        "})\n",
        "\n",
        "# Map numeric labels to text (Optional)\n",
        "label_mapping = {1: 'Positive', -1: 'Negative', 0: 'Neutral'}\n",
        "results_df['True Label'] = results_df['True Label'].map(label_mapping)\n",
        "results_df['Predicted Label'] = results_df['Predicted Label'].map(label_mapping)\n",
        "\n",
        "# Display the table\n",
        "print(\"\\nPredictions Table:\")\n",
        "print(results_df)\n",
        "\n",
        "# Display classification report\n",
        "print(\"\\nClassification Report:\")\n",
        "print(classification_report(y_test_2, y_pred_2, target_names=[\"Negative\", \"Neutral\", \"Positive\"]))"
      ]
    }
  ],
  "metadata": {
    "colab": {
      "provenance": []
    },
    "kernelspec": {
      "display_name": "Python 3",
      "name": "python3"
    },
    "language_info": {
      "name": "python"
    }
  },
  "nbformat": 4,
  "nbformat_minor": 0
}
