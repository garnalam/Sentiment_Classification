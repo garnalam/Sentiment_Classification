{
  "nbformat": 4,
  "nbformat_minor": 0,
  "metadata": {
    "colab": {
      "provenance": []
    },
    "kernelspec": {
      "name": "python3",
      "display_name": "Python 3"
    },
    "language_info": {
      "name": "python"
    }
  },
  "cells": [
    {
      "cell_type": "code",
      "source": [
        "import pandas as pd\n",
        "import re\n",
        "import underthesea\n",
        "import os"
      ],
      "metadata": {
        "id": "EI4ugaloa769"
      },
      "execution_count": 1,
      "outputs": []
    },
    {
      "cell_type": "code",
      "source": [
        "data_path = \"./Dataset_For_Work\""
      ],
      "metadata": {
        "id": "92WomLyYg9EG"
      },
      "execution_count": 2,
      "outputs": []
    },
    {
      "cell_type": "code",
      "source": [
        "def load_data(file_path, label):\n",
        "    \"\"\"\n",
        "    Đọc dữ liệu từ file và gắn nhãn tương ứng.\n",
        "    Args:\n",
        "        file_path (str): Đường dẫn đến tệp văn bản.\n",
        "        label (str): Nhãn cảm xúc (positive, neutral, negative).\n",
        "    Returns:\n",
        "        data (list): Danh sách chứa các câu và nhãn.\n",
        "    \"\"\"\n",
        "    data = []\n",
        "    with open(file_path, \"r\", encoding=\"utf-8\") as file:\n",
        "        for line in file:\n",
        "            sentence = line.strip()  # Xóa khoảng trắng ở đầu và cuối câu\n",
        "            if sentence:  # Chỉ thêm những câu không rỗng\n",
        "                data.append((sentence, label))\n",
        "    return data"
      ],
      "metadata": {
        "id": "O8HNt-eZhAO9"
      },
      "execution_count": 3,
      "outputs": []
    },
    {
      "cell_type": "code",
      "source": [
        "def clean_text(text):\n",
        "    \"\"\"\n",
        "    Làm sạch văn bản bằng cách loại bỏ ký tự đặc biệt, số và khoảng trắng thừa.\n",
        "    Args:\n",
        "        text (str): Câu văn bản cần làm sạch.\n",
        "    Returns:\n",
        "        str: Văn bản sau khi làm sạch.\n",
        "    \"\"\"\n",
        "    text = text.lower()  # Chuyển thành chữ thường\n",
        "    text = re.sub(r'\\d+', '', text)  # Loại bỏ số\n",
        "    text = re.sub(r'[^\\w\\s]', '', text)  # Loại bỏ ký tự đặc biệt\n",
        "    text = re.sub(r'\\s+', ' ', text).strip()  # Loại bỏ khoảng trắng thừa\n",
        "    return text"
      ],
      "metadata": {
        "id": "J_LbukIphFRd"
      },
      "execution_count": 4,
      "outputs": []
    },
    {
      "cell_type": "code",
      "source": [
        "# Đọc dữ liệu từ các tệp và gắn nhãn\n",
        "positive_data = load_data(os.path.join(data_path, \"SA-training_positive.txt\"), \"positive\")\n",
        "neutral_data = load_data(os.path.join(data_path, \"SA-training_neutral.txt\"), \"neutral\")\n",
        "negative_data = load_data(os.path.join(data_path, \"SA-training_negative.txt\"), \"negative\")\n",
        "\n",
        "# Kết hợp tất cả dữ liệu\n",
        "all_data = positive_data + neutral_data + negative_data\n",
        "\n",
        "# Tiền xử lý văn bản\n",
        "cleaned_data = [(clean_text(sentence), label) for sentence, label in all_data]\n",
        "\n",
        "# Chuyển dữ liệu sang DataFrame\n",
        "df = pd.DataFrame(cleaned_data, columns=[\"Sentence\", \"Label\"])\n",
        "\n",
        "# Hiển thị một vài dòng đầu tiên\n",
        "print(df.head())"
      ],
      "metadata": {
        "colab": {
          "base_uri": "https://localhost:8080/"
        },
        "id": "FBhQYsA8hKoW",
        "outputId": "f7a040d0-340c-49d1-cd76-00aeb227bd99"
      },
      "execution_count": 5,
      "outputs": [
        {
          "output_type": "stream",
          "name": "stdout",
          "text": [
            "                                            Sentence     Label\n",
            "0  đang xài mx dùng bình thường ngon pin trâu mỗi...  positive\n",
            "1  qủa pin ngon sạc lại được bền riêng em dùng pi...  positive\n",
            "2  cũng đang xài con logitech bluetooth tầm thấp ...  positive\n",
            "3  logitech pin trâu thôi rôi mua con b cui ma cu...  positive\n",
            "4  em có con chuột không dây k cũng đầy đủ nút bấ...  positive\n"
          ]
        }
      ]
    }
  ]
}