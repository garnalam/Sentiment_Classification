{
  "nbformat": 4,
  "nbformat_minor": 0,
  "metadata": {
    "colab": {
      "provenance": []
    },
    "kernelspec": {
      "name": "python3",
      "display_name": "Python 3"
    },
    "language_info": {
      "name": "python"
    }
  },
  "cells": [
    {
      "cell_type": "code",
      "source": [
        "import pandas as pd\n",
        "import re\n",
        "import underthesea\n",
        "import os"
      ],
      "metadata": {
        "id": "EI4ugaloa769"
      },
      "execution_count": 1,
      "outputs": []
    },
    {
      "cell_type": "code",
      "source": [
        "data_path = \"./Dataset_For_Work\""
      ],
      "metadata": {
        "id": "92WomLyYg9EG"
      },
      "execution_count": 2,
      "outputs": []
    },
    {
      "cell_type": "code",
      "source": [
        "def load_data(file_path, label):\n",
        "    \"\"\"\n",
        "    Đọc dữ liệu từ file và gắn nhãn tương ứng.\n",
        "    Args:\n",
        "        file_path (str): Đường dẫn đến tệp văn bản.\n",
        "        label (str): Nhãn cảm xúc (positive, neutral, negative).\n",
        "    Returns:\n",
        "        data (list): Danh sách chứa các câu và nhãn.\n",
        "    \"\"\"\n",
        "    data = []\n",
        "    with open(file_path, \"r\", encoding=\"utf-8\") as file:\n",
        "        for line in file:\n",
        "            sentence = line.strip()  # Xóa khoảng trắng ở đầu và cuối câu\n",
        "            if sentence:  # Chỉ thêm những câu không rỗng\n",
        "                data.append((sentence, label))\n",
        "    return data"
      ],
      "metadata": {
        "id": "O8HNt-eZhAO9"
      },
      "execution_count": 3,
      "outputs": []
    },
    {
      "cell_type": "code",
      "source": [
        "def clean_text(text):\n",
        "    \"\"\"\n",
        "    Làm sạch văn bản bằng cách loại bỏ ký tự đặc biệt, số và khoảng trắng thừa.\n",
        "    Args:\n",
        "        text (str): Câu văn bản cần làm sạch.\n",
        "    Returns:\n",
        "        str: Văn bản sau khi làm sạch.\n",
        "    \"\"\"\n",
        "    text = text.lower()  # Chuyển thành chữ thường\n",
        "    text = re.sub(r'\\d+', '', text)  # Loại bỏ số\n",
        "    text = re.sub(r'[^\\w\\s]', '', text)  # Loại bỏ ký tự đặc biệt\n",
        "    text = re.sub(r'\\s+', ' ', text).strip()  # Loại bỏ khoảng trắng thừa\n",
        "    return text"
      ],
      "metadata": {
        "id": "J_LbukIphFRd"
      },
      "execution_count": 4,
      "outputs": []
    },
    {
      "cell_type": "code",
      "source": [
        "# Đọc dữ liệu từ các tệp và gắn nhãn\n",
        "positive_data = load_data(os.path.join(data_path, \"SA-training_positive.txt\"), \"positive\")\n",
        "neutral_data = load_data(os.path.join(data_path, \"SA-training_neutral.txt\"), \"neutral\")\n",
        "negative_data = load_data(os.path.join(data_path, \"SA-training_negative.txt\"), \"negative\")\n",
        "\n",
        "# Kết hợp tất cả dữ liệu\n",
        "all_data = positive_data + neutral_data + negative_data\n",
        "\n",
        "# Tiền xử lý văn bản\n",
        "cleaned_data = [(clean_text(sentence), label) for sentence, label in all_data]\n",
        "\n",
        "# Chuyển dữ liệu sang DataFrame\n",
        "df = pd.DataFrame(cleaned_data, columns=[\"Sentence\", \"Label\"])\n",
        "\n",
        "# Hiển thị một vài dòng đầu tiên\n",
        "print(df.head())"
      ],
      "metadata": {
        "colab": {
          "base_uri": "https://localhost:8080/"
        },
        "id": "FBhQYsA8hKoW",
        "outputId": "91c55076-32ef-46a6-dc4f-5e29b05228b1"
      },
      "execution_count": 5,
      "outputs": [
        {
          "output_type": "stream",
          "name": "stdout",
          "text": [
            "                                            Sentence     Label\n",
            "0  đang xài mx dùng bình thường ngon pin trâu mỗi...  positive\n",
            "1  qủa pin ngon sạc lại được bền riêng em dùng pi...  positive\n",
            "2  cũng đang xài con logitech bluetooth tầm thấp ...  positive\n",
            "3  logitech pin trâu thôi rôi mua con b cui ma cu...  positive\n",
            "4  em có con chuột không dây k cũng đầy đủ nút bấ...  positive\n"
          ]
        }
      ]
    },
    {
      "cell_type": "code",
      "source": [
        "from underthesea import word_tokenize\n",
        "\n",
        "# Tải file stopwords\n",
        "stop_words_path = \"./Dataset_For_Work/vietnamese-stopwords.txt\"\n",
        "\n",
        "with open(stop_words_path, 'r', encoding='utf-8') as f:\n",
        "    stop_words = set(f.read().splitlines())\n",
        "\n",
        "# Loại bỏ stopwords\n",
        "def remove_stopwords(sentence):\n",
        "    # Tokenize and filter stopwords\n",
        "    word_tokens = word_tokenize(sentence)\n",
        "    filtered_words = [word for word in word_tokens if word.lower() not in stop_words]\n",
        "    return ' '.join(filtered_words)\n",
        "\n",
        "# Thay mác label\n",
        "def replace_labels(df, label_column):\n",
        "    sentiment_map = {'positive': 1, 'negative': -1, 'neutral': 0}\n",
        "    if label_column in df.columns:\n",
        "        df[label_column] = df[label_column].map(sentiment_map)\n",
        "\n",
        "df['Sentence'] = df['Sentence'].apply(remove_stopwords)\n",
        "replace_labels(df, 'label')\n",
        "\n",
        "# Cập nhật dữ liệu\n",
        "print(\"Dữ liệu sau khi xử lý:\")\n",
        "print(df.head())"
      ],
      "metadata": {
        "id": "dIPGoDHdm1ZL",
        "colab": {
          "base_uri": "https://localhost:8080/"
        },
        "outputId": "9c0a7fbd-ac56-42f0-b82a-23932a51f3ba"
      },
      "execution_count": 6,
      "outputs": [
        {
          "output_type": "stream",
          "name": "stdout",
          "text": [
            "Dữ liệu sau khi xử lý:\n",
            "                                            Sentence     Label\n",
            "0  xài mx bình thường ngon pin trâu tội thằng chỗ...  positive\n",
            "1               pin ngon sạc bền pin aa aaa thay thế  positive\n",
            "2      xài logitech bluetooth tầm m xài đc ngon chán  positive\n",
            "3  logitech pin trâu thôi rôi mua b cui ma cuc pi...  positive\n",
            "4                chuột dây k đầy đủ nút bấm pin thay  positive\n"
          ]
        }
      ]
    },
    {
      "cell_type": "code",
      "source": [
        "# Thực hiện word tokenization\n",
        "def tokenize_text(sentence):\n",
        "    \"\"\"\n",
        "    Tách từ cho câu đã được tiền xử lý.\n",
        "    Args:\n",
        "        sentence (str): Chuỗi văn bản cần tách từ.\n",
        "    Returns:\n",
        "        str: Văn bản sau khi tách từ.\n",
        "    \"\"\"\n",
        "    return ' '.join(word_tokenize(sentence))  # Tách từ và kết hợp lại thành chuỗi\n",
        "\n",
        "# Thực hiện tách từ cho từng câu trong cột \"Sentence\"\n",
        "df['Sentence'] = df['Sentence'].apply(tokenize_text)\n",
        "\n",
        "# Hiển thị dữ liệu sau khi tách từ\n",
        "print(\"Dữ liệu sau khi tách từ:\")\n",
        "print(df.head(10))"
      ],
      "metadata": {
        "colab": {
          "base_uri": "https://localhost:8080/"
        },
        "id": "FxsNSBufeOu6",
        "outputId": "a3938b12-0fba-4a5c-b0f3-129928290fe2"
      },
      "execution_count": 9,
      "outputs": [
        {
          "output_type": "stream",
          "name": "stdout",
          "text": [
            "Dữ liệu sau khi tách từ:\n",
            "                                            Sentence     Label\n",
            "0  xài mx bình thường ngon pin trâu tội thằng chỗ...  positive\n",
            "1               pin ngon sạc bền pin aa aaa thay thế  positive\n",
            "2      xài logitech bluetooth tầm m xài đc ngon chán  positive\n",
            "3  logitech pin trâu thôi rôi mua b cui ma cuc pi...  positive\n",
            "4                chuột dây k đầy đủ nút bấm pin thay  positive\n",
            "5  v bluetooth trâu kém cạnh cạnh bấm chuột logit...  positive\n",
            "6                                            sài cực  positive\n",
            "7                              lắm ko mx anywhere ổn  positive\n",
            "8  dragon war g thor xài ngon build cao cấp lắm đ...  positive\n",
            "9  người thân chuột lazer logitech xài rùi hư ko ...  positive\n"
          ]
        }
      ]
    },
    {
      "cell_type": "code",
      "source": [
        "from gensim.models import Word2Vec\n",
        "from underthesea import word_tokenize\n",
        "import pandas as pd"
      ],
      "metadata": {
        "id": "VswGQtUHhrOZ"
      },
      "execution_count": 11,
      "outputs": []
    },
    {
      "cell_type": "code",
      "source": [
        "# Chuẩn bị dữ liệu cho Word2Vec (danh sách các câu dưới dạng tokenized)\n",
        "tokenized_sentences = [sentence.split() for sentence in df['Sentence']]"
      ],
      "metadata": {
        "id": "62CrYZZqhv9L"
      },
      "execution_count": 12,
      "outputs": []
    },
    {
      "cell_type": "code",
      "source": [
        "# Huấn luyện mô hình Word2Vec\n",
        "word2vec_model = Word2Vec(sentences=tokenized_sentences,\n",
        "                          vector_size=100,  # Kích thước vector (có thể tùy chỉnh)\n",
        "                          window=5,         # Kích thước cửa sổ ngữ cảnh\n",
        "                          min_count=2,      # Chỉ học từ xuất hiện >= 2 lần\n",
        "                          workers=4,        # Số luồng CPU sử dụng\n",
        "                          sg=1)             # Sử dụng Skip-Gram (sg=1) hoặc CBOW (sg=0)\n",
        "\n",
        "# Lưu mô hình\n",
        "word2vec_model.save(\"word2vec_vi.model\")"
      ],
      "metadata": {
        "id": "JBPHUgbShz16"
      },
      "execution_count": 13,
      "outputs": []
    },
    {
      "cell_type": "code",
      "source": [
        "#Lấy và kiểm tra vector của một từ cụ thể\n",
        "word = \"tốt\"\n",
        "if word in word2vec_model.wv:\n",
        "    print(f\"Vector của từ '{word}':\\n{word2vec_model.wv[word]}\")\n",
        "else:\n",
        "    print(f\"Từ '{word}' không có trong vocabulary của Word2Vec.\")"
      ],
      "metadata": {
        "colab": {
          "base_uri": "https://localhost:8080/"
        },
        "id": "SeNExndoh_1L",
        "outputId": "cf98d2e5-302d-4042-cba7-33f6d5bdcc97"
      },
      "execution_count": 15,
      "outputs": [
        {
          "output_type": "stream",
          "name": "stdout",
          "text": [
            "Vector của từ 'tốt':\n",
            "[ 0.12427032  0.18463244  0.00591576 -0.03175231  0.06260195 -0.29050094\n",
            "  0.10148292  0.20663545 -0.203469   -0.09238093 -0.16199635 -0.27261478\n",
            " -0.04451975  0.07539539  0.06600002 -0.18440935  0.02166819 -0.2391626\n",
            " -0.04690346 -0.45241073 -0.01386736  0.12362839  0.09298798 -0.01109914\n",
            " -0.01781242 -0.03849871 -0.06729291 -0.18004836 -0.24325168  0.18233955\n",
            "  0.22479846  0.02558722  0.00981476 -0.16159469 -0.17927863  0.27966365\n",
            "  0.02457116 -0.09304912 -0.14254352 -0.32051852  0.03765506 -0.17504385\n",
            " -0.08440095  0.12463801  0.1432225  -0.19954176 -0.19653733 -0.08124914\n",
            "  0.10761157  0.05559778  0.10976934 -0.22835428 -0.03860527 -0.06904443\n",
            " -0.1096584   0.16981073  0.06517973 -0.07310096 -0.20057133 -0.09730838\n",
            "  0.18031888 -0.11743724 -0.02313122  0.06410506 -0.15333247  0.09998307\n",
            "  0.16109139  0.14596125 -0.32152182  0.1812165  -0.05118677  0.10137749\n",
            "  0.1414953  -0.05843396  0.19180338  0.22146414  0.05007388  0.02508421\n",
            " -0.14634538  0.07982272 -0.02038826 -0.06051093 -0.31963897  0.30145073\n",
            " -0.0409913  -0.02146842  0.02388725  0.20567346  0.34640804  0.0430311\n",
            "  0.09395848  0.03936488  0.01877991  0.01187629  0.18723755  0.19208871\n",
            "  0.1665281  -0.28461736  0.1766557  -0.05224159]\n"
          ]
        }
      ]
    },
    {
      "cell_type": "code",
      "source": [
        "# Biểu diễn câu bằng Word2Vec\n",
        "import numpy as np\n",
        "\n",
        "def sentence_vector(sentence, model):\n",
        "    \"\"\"\n",
        "    Tính trung bình vector của các từ trong câu.\n",
        "    Args:\n",
        "        sentence (str): Câu đã tách từ.\n",
        "        model: Mô hình Word2Vec đã huấn luyện.\n",
        "    Returns:\n",
        "        np.array: Vector biểu diễn của câu.\n",
        "    \"\"\"\n",
        "    words = sentence.split()\n",
        "    word_vectors = [model.wv[word] for word in words if word in model.wv]\n",
        "    if len(word_vectors) == 0:\n",
        "        return np.zeros(model.vector_size)  # Trả về vector 0 nếu không có từ nào hợp lệ\n",
        "    return np.mean(word_vectors, axis=0)\n",
        "\n",
        "# Thêm cột vector cho từng câu\n",
        "df['Sentence_Vector'] = df['Sentence'].apply(lambda x: sentence_vector(x, word2vec_model))\n",
        "\n",
        "# Hiển thị kết quả\n",
        "print(\"Biểu diễn vector của các câu:\")\n",
        "print(df.head(10))\n"
      ],
      "metadata": {
        "colab": {
          "base_uri": "https://localhost:8080/"
        },
        "id": "6cLgFil0iD7s",
        "outputId": "be9d02c5-9ca1-496f-cc33-c8f3c3d1954d"
      },
      "execution_count": 20,
      "outputs": [
        {
          "output_type": "stream",
          "name": "stdout",
          "text": [
            "Biểu diễn vector của các câu:\n",
            "                                            Sentence     Label  \\\n",
            "0  xài mx bình thường ngon pin trâu tội thằng chỗ...  positive   \n",
            "1               pin ngon sạc bền pin aa aaa thay thế  positive   \n",
            "2      xài logitech bluetooth tầm m xài đc ngon chán  positive   \n",
            "3  logitech pin trâu thôi rôi mua b cui ma cuc pi...  positive   \n",
            "4                chuột dây k đầy đủ nút bấm pin thay  positive   \n",
            "5  v bluetooth trâu kém cạnh cạnh bấm chuột logit...  positive   \n",
            "6                                            sài cực  positive   \n",
            "7                              lắm ko mx anywhere ổn  positive   \n",
            "8  dragon war g thor xài ngon build cao cấp lắm đ...  positive   \n",
            "9  người thân chuột lazer logitech xài rùi hư ko ...  positive   \n",
            "\n",
            "                                     Sentence_Vector  \n",
            "0  [0.06002847, 0.1967728, 0.059164625, 0.0145045...  \n",
            "1  [0.11808266, 0.24715789, 0.020011934, 0.047636...  \n",
            "2  [0.04018867, 0.3003286, 0.15208347, 0.06338551...  \n",
            "3  [-0.054300394, 0.14364418, 0.10325198, 0.02555...  \n",
            "4  [0.053826254, 0.21018839, 0.06337227, -0.00101...  \n",
            "5  [0.06676818, 0.17121108, 0.050199088, -6.42442...  \n",
            "6  [0.09980734, 0.21715403, 0.0443125, 0.01615850...  \n",
            "7  [0.11837466, 0.19124858, 0.11748006, -0.003759...  \n",
            "8  [0.022969756, 0.20618014, 0.055087272, 0.03887...  \n",
            "9  [0.057839997, 0.19830368, 0.03204076, -0.00172...  \n"
          ]
        }
      ]
    },
    {
      "cell_type": "code",
      "source": [
        "# Kiểm tra sự tương đồng giữa các từ\n",
        "# Tìm các từ tương tự với từ 'tốt'\n",
        "similar_words = word2vec_model.wv.most_similar(\"tốt\", topn=5)\n",
        "print(\"Các từ tương tự với 'tốt':\")\n",
        "for word, similarity in similar_words:\n",
        "    print(f\"{word}: {similarity:.4f}\")"
      ],
      "metadata": {
        "colab": {
          "base_uri": "https://localhost:8080/"
        },
        "id": "Fri3bBnuio3K",
        "outputId": "2d91b961-729d-446f-ea64-dba1ba5a431c"
      },
      "execution_count": 21,
      "outputs": [
        {
          "output_type": "stream",
          "name": "stdout",
          "text": [
            "Các từ tương tự với 'tốt':\n",
            "lẫn: 0.9840\n",
            "nhược: 0.9837\n",
            "dạng: 0.9808\n",
            "polar: 0.9807\n",
            "lởm: 0.9803\n"
          ]
        }
      ]
    }
  ]
}