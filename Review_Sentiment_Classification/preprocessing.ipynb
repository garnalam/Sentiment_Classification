{
  "nbformat": 4,
  "nbformat_minor": 0,
  "metadata": {
    "colab": {
      "provenance": []
    },
    "kernelspec": {
      "name": "python3",
      "display_name": "Python 3"
    },
    "language_info": {
      "name": "python"
    }
  },
  "cells": [
    {
      "cell_type": "code",
      "source": [
        "import pandas as pd\n",
        "import re\n",
        "import underthesea\n",
        "import os"
      ],
      "metadata": {
        "id": "EI4ugaloa769"
      },
      "execution_count": 1,
      "outputs": []
    },
    {
      "cell_type": "code",
      "source": [
        "data_path = \"./Dataset_For_Work\""
      ],
      "metadata": {
        "id": "92WomLyYg9EG"
      },
      "execution_count": 2,
      "outputs": []
    },
    {
      "cell_type": "code",
      "source": [
        "def load_data(file_path, label):\n",
        "    \"\"\"\n",
        "    Đọc dữ liệu từ file và gắn nhãn tương ứng.\n",
        "    Args:\n",
        "        file_path (str): Đường dẫn đến tệp văn bản.\n",
        "        label (str): Nhãn cảm xúc (positive, neutral, negative).\n",
        "    Returns:\n",
        "        data (list): Danh sách chứa các câu và nhãn.\n",
        "    \"\"\"\n",
        "    data = []\n",
        "    with open(file_path, \"r\", encoding=\"utf-8\") as file:\n",
        "        for line in file:\n",
        "            sentence = line.strip()  # Xóa khoảng trắng ở đầu và cuối câu\n",
        "            if sentence:  # Chỉ thêm những câu không rỗng\n",
        "                data.append((sentence, label))\n",
        "    return data"
      ],
      "metadata": {
        "id": "O8HNt-eZhAO9"
      },
      "execution_count": 3,
      "outputs": []
    },
    {
      "cell_type": "code",
      "source": [
        "def clean_text(text):\n",
        "    \"\"\"\n",
        "    Làm sạch văn bản bằng cách loại bỏ ký tự đặc biệt, số và khoảng trắng thừa.\n",
        "    Args:\n",
        "        text (str): Câu văn bản cần làm sạch.\n",
        "    Returns:\n",
        "        str: Văn bản sau khi làm sạch.\n",
        "    \"\"\"\n",
        "    text = text.lower()  # Chuyển thành chữ thường\n",
        "    text = re.sub(r'\\d+', '', text)  # Loại bỏ số\n",
        "    text = re.sub(r'[^\\w\\s]', '', text)  # Loại bỏ ký tự đặc biệt\n",
        "    text = re.sub(r'\\s+', ' ', text).strip()  # Loại bỏ khoảng trắng thừa\n",
        "    return text"
      ],
      "metadata": {
        "id": "J_LbukIphFRd"
      },
      "execution_count": 4,
      "outputs": []
    },
    {
      "cell_type": "code",
      "source": [
        "# Đọc dữ liệu từ các tệp và gắn nhãn\n",
        "positive_data = load_data(os.path.join(data_path, \"SA-training_positive.txt\"), \"positive\")\n",
        "neutral_data = load_data(os.path.join(data_path, \"SA-training_neutral.txt\"), \"neutral\")\n",
        "negative_data = load_data(os.path.join(data_path, \"SA-training_negative.txt\"), \"negative\")\n",
        "\n",
        "# Kết hợp tất cả dữ liệu\n",
        "all_data = positive_data + neutral_data + negative_data\n",
        "\n",
        "# Tiền xử lý văn bản\n",
        "cleaned_data = [(clean_text(sentence), label) for sentence, label in all_data]\n",
        "\n",
        "# Chuyển dữ liệu sang DataFrame\n",
        "df = pd.DataFrame(cleaned_data, columns=[\"Sentence\", \"Label\"])\n",
        "\n",
        "# Hiển thị một vài dòng đầu tiên\n",
        "print(df.head())"
      ],
      "metadata": {
        "colab": {
          "base_uri": "https://localhost:8080/"
        },
        "id": "FBhQYsA8hKoW",
        "outputId": "040ec254-29db-4cdd-8741-e65265b311e7"
      },
      "execution_count": 5,
      "outputs": [
        {
          "output_type": "stream",
          "name": "stdout",
          "text": [
            "                                            Sentence     Label\n",
            "0  đang xài mx dùng bình thường ngon pin trâu mỗi...  positive\n",
            "1  qủa pin ngon sạc lại được bền riêng em dùng pi...  positive\n",
            "2  cũng đang xài con logitech bluetooth tầm thấp ...  positive\n",
            "3  logitech pin trâu thôi rôi mua con b cui ma cu...  positive\n",
            "4  em có con chuột không dây k cũng đầy đủ nút bấ...  positive\n"
          ]
        }
      ]
    },
    {
      "cell_type": "code",
      "source": [
        "from underthesea import word_tokenize\n",
        "\n",
        "# Tải file stopwords\n",
        "stop_words_path = \"./Dataset_For_Work/vietnamese-stopwords.txt\"\n",
        "\n",
        "with open(stop_words_path, 'r', encoding='utf-8') as f:\n",
        "    stop_words = set(f.read().splitlines())\n",
        "\n",
        "# Loại bỏ stopwords\n",
        "def remove_stopwords(sentence):\n",
        "    # Tokenize and filter stopwords\n",
        "    word_tokens = word_tokenize(sentence)\n",
        "    filtered_words = [word for word in word_tokens if word.lower() not in stop_words]\n",
        "    return ' '.join(filtered_words)\n",
        "\n",
        "# Thay mác label\n",
        "def replace_labels(df, label_column):\n",
        "    sentiment_map = {'positive': 1, 'negative': -1, 'neutral': 0}\n",
        "    if label_column in df.columns:\n",
        "        df[label_column] = df[label_column].map(sentiment_map)\n",
        "\n",
        "df['Sentence'] = df['Sentence'].apply(remove_stopwords)\n",
        "replace_labels(df, 'label')\n",
        "\n",
        "# Cập nhật dữ liệu\n",
        "print(\"Dữ liệu sau khi xử lý:\")\n",
        "print(df.head())"
      ],
      "metadata": {
        "id": "dIPGoDHdm1ZL",
        "colab": {
          "base_uri": "https://localhost:8080/"
        },
        "outputId": "a9b3ef93-69d2-472d-b38a-40695e9dfb25"
      },
      "execution_count": 6,
      "outputs": [
        {
          "output_type": "stream",
          "name": "stdout",
          "text": [
            "Dữ liệu sau khi xử lý:\n",
            "                                            Sentence     Label\n",
            "0  xài mx bình thường ngon pin trâu tội thằng chỗ...  positive\n",
            "1               pin ngon sạc bền pin aa aaa thay thế  positive\n",
            "2      xài logitech bluetooth tầm m xài đc ngon chán  positive\n",
            "3  logitech pin trâu thôi rôi mua b cui ma cuc pi...  positive\n",
            "4                chuột dây k đầy đủ nút bấm pin thay  positive\n"
          ]
        }
      ]
    },
    {
      "cell_type": "code",
      "source": [
        "# Thực hiện word tokenization\n",
        "def tokenize_text(sentence):\n",
        "    \"\"\"\n",
        "    Tách từ cho câu đã được tiền xử lý.\n",
        "    Args:\n",
        "        sentence (str): Chuỗi văn bản cần tách từ.\n",
        "    Returns:\n",
        "        str: Văn bản sau khi tách từ.\n",
        "    \"\"\"\n",
        "    return ' '.join(word_tokenize(sentence))  # Tách từ và kết hợp lại thành chuỗi\n",
        "\n",
        "# Thực hiện tách từ cho từng câu trong cột \"Sentence\"\n",
        "df['Sentence'] = df['Sentence'].apply(tokenize_text)\n",
        "\n",
        "# Hiển thị dữ liệu sau khi tách từ\n",
        "print(\"Dữ liệu sau khi tách từ:\")\n",
        "print(df.head(10))"
      ],
      "metadata": {
        "colab": {
          "base_uri": "https://localhost:8080/"
        },
        "id": "FxsNSBufeOu6",
        "outputId": "4f50ab05-dbb4-4f3b-c337-c29179800234"
      },
      "execution_count": 7,
      "outputs": [
        {
          "output_type": "stream",
          "name": "stdout",
          "text": [
            "Dữ liệu sau khi tách từ:\n",
            "                                            Sentence     Label\n",
            "0  xài mx bình thường ngon pin trâu tội thằng chỗ...  positive\n",
            "1               pin ngon sạc bền pin aa aaa thay thế  positive\n",
            "2      xài logitech bluetooth tầm m xài đc ngon chán  positive\n",
            "3  logitech pin trâu thôi rôi mua b cui ma cuc pi...  positive\n",
            "4                chuột dây k đầy đủ nút bấm pin thay  positive\n",
            "5  v bluetooth trâu kém cạnh cạnh bấm chuột logit...  positive\n",
            "6                                            sài cực  positive\n",
            "7                              lắm ko mx anywhere ổn  positive\n",
            "8  dragon war g thor xài ngon build cao cấp lắm đ...  positive\n",
            "9  người thân chuột lazer logitech xài rùi hư ko ...  positive\n"
          ]
        }
      ]
    },
    {
      "cell_type": "code",
      "source": [
        "from gensim.models import Word2Vec\n",
        "from underthesea import word_tokenize\n",
        "import pandas as pd"
      ],
      "metadata": {
        "id": "VswGQtUHhrOZ"
      },
      "execution_count": 8,
      "outputs": []
    },
    {
      "cell_type": "code",
      "source": [
        "# Chuẩn bị dữ liệu cho Word2Vec (danh sách các câu dưới dạng tokenized)\n",
        "tokenized_sentences = [sentence.split() for sentence in df['Sentence']]"
      ],
      "metadata": {
        "id": "62CrYZZqhv9L"
      },
      "execution_count": 9,
      "outputs": []
    },
    {
      "cell_type": "code",
      "source": [
        "# Huấn luyện mô hình Word2Vec\n",
        "word2vec_model = Word2Vec(sentences=tokenized_sentences,\n",
        "                          vector_size=100,  # Kích thước vector (có thể tùy chỉnh)\n",
        "                          window=5,         # Kích thước cửa sổ ngữ cảnh\n",
        "                          min_count=2,      # Chỉ học từ xuất hiện >= 2 lần\n",
        "                          workers=4,        # Số luồng CPU sử dụng\n",
        "                          sg=1)             # Sử dụng Skip-Gram (sg=1) hoặc CBOW (sg=0)\n",
        "\n",
        "# Lưu mô hình\n",
        "word2vec_model.save(\"word2vec_vi.model\")"
      ],
      "metadata": {
        "id": "JBPHUgbShz16"
      },
      "execution_count": 10,
      "outputs": []
    },
    {
      "cell_type": "code",
      "source": [
        "#Lấy và kiểm tra vector của một từ cụ thể\n",
        "word = \"tốt\"\n",
        "if word in word2vec_model.wv:\n",
        "    print(f\"Vector của từ '{word}':\\n{word2vec_model.wv[word]}\")\n",
        "else:\n",
        "    print(f\"Từ '{word}' không có trong vocabulary của Word2Vec.\")"
      ],
      "metadata": {
        "colab": {
          "base_uri": "https://localhost:8080/"
        },
        "id": "SeNExndoh_1L",
        "outputId": "f03342e6-f072-4157-9cab-320e588b67f2"
      },
      "execution_count": 11,
      "outputs": [
        {
          "output_type": "stream",
          "name": "stdout",
          "text": [
            "Vector của từ 'tốt':\n",
            "[ 1.31314456e-01  1.75479367e-01  1.18545201e-02 -2.89897881e-02\n",
            "  5.81628904e-02 -3.00739586e-01  1.07276045e-01  1.96083814e-01\n",
            " -1.63610324e-01 -9.20557678e-02 -1.67523250e-01 -2.52700388e-01\n",
            " -4.10921276e-02  5.36708198e-02  8.24685916e-02 -1.77998483e-01\n",
            " -1.32612372e-02 -2.44665459e-01 -2.44960375e-02 -4.33506578e-01\n",
            " -1.41073149e-02  1.28840312e-01  1.00705646e-01 -1.82382856e-02\n",
            " -2.36744676e-02 -4.52114716e-02 -1.00837104e-01 -1.74277976e-01\n",
            " -2.63296336e-01  1.62277177e-01  2.12181270e-01  2.60366332e-02\n",
            "  2.17959024e-02 -1.38788819e-01 -1.75577760e-01  2.82581538e-01\n",
            "  1.17195323e-02 -1.07001312e-01 -1.38254046e-01 -3.02115321e-01\n",
            "  4.12724242e-02 -1.60955444e-01 -9.79643166e-02  1.25913501e-01\n",
            "  1.68812722e-01 -1.95110887e-01 -2.09693506e-01 -8.17426667e-02\n",
            "  1.26047045e-01  5.49336262e-02  1.25312462e-01 -2.10658193e-01\n",
            " -4.01224121e-02 -7.24987686e-02 -1.21316977e-01  1.63630053e-01\n",
            "  7.37201348e-02 -8.60384777e-02 -1.95207760e-01 -7.31141716e-02\n",
            "  1.64135680e-01 -9.22927484e-02 -4.41419370e-02  3.84865403e-02\n",
            " -1.73914775e-01  1.14277907e-01  1.43433869e-01  1.24637373e-01\n",
            " -3.01591277e-01  1.73292354e-01 -5.71733266e-02  9.89613384e-02\n",
            "  1.48685232e-01 -6.48801103e-02  1.91277161e-01  2.20361680e-01\n",
            "  5.26497103e-02  8.95515829e-03 -1.44842744e-01  8.72576386e-02\n",
            " -1.77279639e-04 -5.80192879e-02 -3.27608854e-01  3.09848607e-01\n",
            " -4.06222418e-02 -2.78886611e-04  1.97243635e-02  2.30297342e-01\n",
            "  3.43141556e-01  2.44568307e-02  8.09604228e-02  4.63656783e-02\n",
            "  4.83085290e-02  1.57415792e-02  1.88311353e-01  2.07935348e-01\n",
            "  1.73840865e-01 -3.14000636e-01  1.86509848e-01 -4.51173857e-02]\n"
          ]
        }
      ]
    },
    {
      "cell_type": "code",
      "source": [
        "# Biểu diễn câu bằng Word2Vec\n",
        "import numpy as np\n",
        "\n",
        "def sentence_vector(sentence, model):\n",
        "    \"\"\"\n",
        "    Tính trung bình vector của các từ trong câu.\n",
        "    Args:\n",
        "        sentence (str): Câu đã tách từ.\n",
        "        model: Mô hình Word2Vec đã huấn luyện.\n",
        "    Returns:\n",
        "        np.array: Vector biểu diễn của câu.\n",
        "    \"\"\"\n",
        "    words = sentence.split()\n",
        "    word_vectors = [model.wv[word] for word in words if word in model.wv]\n",
        "    if len(word_vectors) == 0:\n",
        "        return np.zeros(model.vector_size)  # Trả về vector 0 nếu không có từ nào hợp lệ\n",
        "    return np.mean(word_vectors, axis=0)\n",
        "\n",
        "# Thêm cột vector cho từng câu\n",
        "df['Sentence_Vector'] = df['Sentence'].apply(lambda x: sentence_vector(x, word2vec_model))\n",
        "\n",
        "# Hiển thị kết quả\n",
        "print(\"Biểu diễn vector của các câu:\")\n",
        "print(df.head(10))\n"
      ],
      "metadata": {
        "colab": {
          "base_uri": "https://localhost:8080/"
        },
        "id": "6cLgFil0iD7s",
        "outputId": "9f71c2c9-bc0e-41dc-f0da-d257bfec1c23"
      },
      "execution_count": 12,
      "outputs": [
        {
          "output_type": "stream",
          "name": "stdout",
          "text": [
            "Biểu diễn vector của các câu:\n",
            "                                            Sentence     Label  \\\n",
            "0  xài mx bình thường ngon pin trâu tội thằng chỗ...  positive   \n",
            "1               pin ngon sạc bền pin aa aaa thay thế  positive   \n",
            "2      xài logitech bluetooth tầm m xài đc ngon chán  positive   \n",
            "3  logitech pin trâu thôi rôi mua b cui ma cuc pi...  positive   \n",
            "4                chuột dây k đầy đủ nút bấm pin thay  positive   \n",
            "5  v bluetooth trâu kém cạnh cạnh bấm chuột logit...  positive   \n",
            "6                                            sài cực  positive   \n",
            "7                              lắm ko mx anywhere ổn  positive   \n",
            "8  dragon war g thor xài ngon build cao cấp lắm đ...  positive   \n",
            "9  người thân chuột lazer logitech xài rùi hư ko ...  positive   \n",
            "\n",
            "                                     Sentence_Vector  \n",
            "0  [0.06486613, 0.18778491, 0.0515426, 0.00920007...  \n",
            "1  [0.12164089, 0.24702281, 0.015478288, 0.037571...  \n",
            "2  [0.037774615, 0.2879058, 0.12895194, 0.0463896...  \n",
            "3  [-0.045497533, 0.14509118, 0.101842254, 0.0039...  \n",
            "4  [0.060402885, 0.21043402, 0.06122991, -0.00107...  \n",
            "5  [0.07055145, 0.16873667, 0.043069303, -2.29877...  \n",
            "6  [0.11767763, 0.22231933, 0.029550154, 0.032543...  \n",
            "7  [0.09519013, 0.18238947, 0.12260418, 0.0067543...  \n",
            "8  [0.030118898, 0.20870815, 0.040621996, 0.03549...  \n",
            "9  [0.061435465, 0.19803667, 0.02639581, 0.002686...  \n"
          ]
        }
      ]
    },
    {
      "cell_type": "code",
      "source": [
        "# Kiểm tra sự tương đồng giữa các từ\n",
        "# Tìm các từ tương tự với từ 'tốt'\n",
        "word = \"tốt\"\n",
        "if word in word2vec_model.wv:\n",
        "    print(f\"Các từ tương tự với '{word}':\")\n",
        "    similar_words = word2vec_model.wv.most_similar(word, topn=5)\n",
        "    for similar_word, score in similar_words:\n",
        "        print(f\"{similar_word}: {score:.4f}\")\n",
        "else:\n",
        "    print(f\"Từ '{word}' không có trong từ điển của mô hình.\")"
      ],
      "metadata": {
        "colab": {
          "base_uri": "https://localhost:8080/"
        },
        "id": "Fri3bBnuio3K",
        "outputId": "c69d2486-6cff-4fa0-b71a-ee6d4cfd86d6"
      },
      "execution_count": 13,
      "outputs": [
        {
          "output_type": "stream",
          "name": "stdout",
          "text": [
            "Các từ tương tự với 'tốt':\n",
            "mát: 0.9860\n",
            "nhầm: 0.9832\n",
            "dạng: 0.9820\n",
            "nắng: 0.9819\n",
            "nhược: 0.9813\n"
          ]
        }
      ]
    },
    {
      "cell_type": "code",
      "source": [
        "# Tính khoảng cách cosine giữa hai từ\n",
        "word1 = \"tốt\"\n",
        "word2 = \"xấu\"\n",
        "\n",
        "if word1 in word2vec_model.wv and word2 in word2vec_model.wv:\n",
        "    similarity = word2vec_model.wv.similarity(word1, word2)\n",
        "    print(f\"Độ tương đồng cosine giữa '{word1}' và '{word2}': {similarity:.4f}\")\n",
        "else:\n",
        "    print(f\"'{word1}' hoặc '{word2}' không có trong từ điển của mô hình.\")\n"
      ],
      "metadata": {
        "colab": {
          "base_uri": "https://localhost:8080/"
        },
        "id": "WFMKHxrB88Vr",
        "outputId": "8a52ca76-8554-457a-f07b-da2502767e8f"
      },
      "execution_count": 14,
      "outputs": [
        {
          "output_type": "stream",
          "name": "stdout",
          "text": [
            "Độ tương đồng cosine giữa 'tốt' và 'xấu': 0.7479\n"
          ]
        }
      ]
    },
    {
      "cell_type": "code",
      "source": [
        "# Thử nghiệm bài toán Word Analogy\n",
        "positive_words = [\"đẹp\", \"xấu\"]\n",
        "negative_words = [\"tốt\"]\n",
        "\n",
        "if all(word in word2vec_model.wv for word in positive_words + negative_words):\n",
        "    result = word2vec_model.wv.most_similar(positive=positive_words, negative=negative_words, topn=1)\n",
        "    print(f\"Kết quả Word Analogy ({positive_words} - {negative_words}): {result}\")\n",
        "else:\n",
        "    print(\"Một trong các từ không có trong từ điển của mô hình.\")"
      ],
      "metadata": {
        "colab": {
          "base_uri": "https://localhost:8080/"
        },
        "id": "HYf5rZgH9Ez5",
        "outputId": "1c1c75ff-1393-4c8b-8622-dfcf73896033"
      },
      "execution_count": 15,
      "outputs": [
        {
          "output_type": "stream",
          "name": "stdout",
          "text": [
            "Kết quả Word Analogy (['đẹp', 'xấu'] - ['tốt']): [('kế', 0.7815371155738831)]\n"
          ]
        }
      ]
    },
    {
      "cell_type": "code",
      "source": [
        "from sklearn.model_selection import train_test_split\n",
        "from sklearn.ensemble import RandomForestClassifier\n",
        "from sklearn.metrics import accuracy_score, classification_report"
      ],
      "metadata": {
        "id": "3iCajNY29Umi"
      },
      "execution_count": 16,
      "outputs": []
    },
    {
      "cell_type": "code",
      "source": [
        "# Chuẩn bị dữ liệu\n",
        "X = np.vstack(df['Sentence_Vector'].values)  # Ma trận vector biểu diễn câu\n",
        "y = df['Label'].values  # Nhãn cảm xúc\n",
        "\n",
        "# Tách dữ liệu train/test\n",
        "X_train, X_test, y_train, y_test = train_test_split(X, y, test_size=0.2, random_state=42)\n",
        "\n",
        "# Huấn luyện mô hình học máy\n",
        "clf = RandomForestClassifier(n_estimators=100, random_state=42)\n",
        "clf.fit(X_train, y_train)\n",
        "\n",
        "# Dự đoán và đánh giá\n",
        "y_pred = clf.predict(X_test)\n",
        "print(\"Độ chính xác trên tập test:\", accuracy_score(y_test, y_pred))\n",
        "print(\"Báo cáo phân loại:\\n\", classification_report(y_test, y_pred))"
      ],
      "metadata": {
        "colab": {
          "base_uri": "https://localhost:8080/"
        },
        "id": "aJsf27F79Wex",
        "outputId": "0f71b6f1-1870-4b3d-dad3-e957de637d1d"
      },
      "execution_count": 18,
      "outputs": [
        {
          "output_type": "stream",
          "name": "stdout",
          "text": [
            "Độ chính xác trên tập test: 0.49411764705882355\n",
            "Báo cáo phân loại:\n",
            "               precision    recall  f1-score   support\n",
            "\n",
            "    negative       0.44      0.42      0.43       335\n",
            "     neutral       0.44      0.53      0.48       327\n",
            "    positive       0.61      0.53      0.57       358\n",
            "\n",
            "    accuracy                           0.49      1020\n",
            "   macro avg       0.50      0.49      0.49      1020\n",
            "weighted avg       0.50      0.49      0.50      1020\n",
            "\n"
          ]
        }
      ]
    }
  ]
}