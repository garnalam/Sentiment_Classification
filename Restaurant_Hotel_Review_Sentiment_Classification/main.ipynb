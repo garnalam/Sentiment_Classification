{
 "cells": [
  {
   "cell_type": "code",
   "execution_count": 1,
   "metadata": {},
   "outputs": [],
   "source": [
    "from preprocessing import read_data,data_with_sparse_matrix\n",
    "from torch.utils.data import DataLoader, TensorDataset\n",
    "import pandas as pd\n",
    "import numpy as np\n",
    "import gensim\n",
    "import warnings\n",
    "import torch\n",
    "import re\n",
    "import underthesea\n",
    "warnings.filterwarnings('ignore')\n",
    "from string import punctuation\n",
    "punctuation = punctuation + '‘’“”'\n"
   ]
  },
  {
   "cell_type": "code",
   "execution_count": 4,
   "metadata": {},
   "outputs": [
    {
     "data": {
      "text/plain": [
       "1"
      ]
     },
     "execution_count": 4,
     "metadata": {},
     "output_type": "execute_result"
    }
   ],
   "source": [
    "np.sum([-1,0,0,0,0,1,1,0,0,0,0,0])"
   ]
  },
  {
   "cell_type": "code",
   "execution_count": 2,
   "metadata": {},
   "outputs": [],
   "source": [
    "train_data_raw = read_data('Dataset_For_Work\\\\1-VLSP2018-SA-Hotel-train (7-3-2018).txt')\n",
    "test_data_raw = read_data('Dataset_For_Work\\\\2-VLSP2018-SA-Hotel-dev (7-3-2018).txt')\n",
    "valid_data_raw = read_data('Dataset_For_Work\\\\3-VLSP2018-SA-Hotel-test (8-3-2018).txt')"
   ]
  },
  {
   "cell_type": "code",
   "execution_count": 8,
   "metadata": {},
   "outputs": [],
   "source": [
    "test_data_raw['review'].to_csv('te.csv')"
   ]
  },
  {
   "cell_type": "code",
   "execution_count": 9,
   "metadata": {},
   "outputs": [
    {
     "name": "stdout",
     "output_type": "stream",
     "text": [
      "3000 2000 600\n"
     ]
    }
   ],
   "source": [
    "print(len(train_data_raw),len(test_data_raw),len(valid_data_raw))"
   ]
  },
  {
   "cell_type": "code",
   "execution_count": 10,
   "metadata": {},
   "outputs": [
    {
     "name": "stdout",
     "output_type": "stream",
     "text": [
      "5600\n"
     ]
    }
   ],
   "source": [
    "print(len(train_data_raw) + len(test_data_raw) + len(valid_data_raw))"
   ]
  },
  {
   "cell_type": "code",
   "execution_count": 11,
   "metadata": {},
   "outputs": [],
   "source": [
    "train_data_after_adding_label,_ = data_with_sparse_matrix(train_data_raw)\n",
    "test_data_after_adding_label,_ = data_with_sparse_matrix(test_data_raw)\n",
    "valid_data_after_adding_label,_ = data_with_sparse_matrix(valid_data_raw)"
   ]
  },
  {
   "cell_type": "code",
   "execution_count": 13,
   "metadata": {},
   "outputs": [
    {
     "data": {
      "text/html": [
       "<div>\n",
       "<style scoped>\n",
       "    .dataframe tbody tr th:only-of-type {\n",
       "        vertical-align: middle;\n",
       "    }\n",
       "\n",
       "    .dataframe tbody tr th {\n",
       "        vertical-align: top;\n",
       "    }\n",
       "\n",
       "    .dataframe thead th {\n",
       "        text-align: right;\n",
       "    }\n",
       "</style>\n",
       "<table border=\"1\" class=\"dataframe\">\n",
       "  <thead>\n",
       "    <tr style=\"text-align: right;\">\n",
       "      <th></th>\n",
       "      <th>Text</th>\n",
       "      <th>Label</th>\n",
       "    </tr>\n",
       "  </thead>\n",
       "  <tbody>\n",
       "    <tr>\n",
       "      <th>0</th>\n",
       "      <td>Rộng rãi KS mới nhưng rất vắng. Các dịch vụ ch...</td>\n",
       "      <td>0</td>\n",
       "    </tr>\n",
       "    <tr>\n",
       "      <th>1</th>\n",
       "      <td>Địa điểm thuận tiện, trong vòng bán kính 1,5km...</td>\n",
       "      <td>0</td>\n",
       "    </tr>\n",
       "    <tr>\n",
       "      <th>2</th>\n",
       "      <td>Phục vụ, view đẹp, vị trí</td>\n",
       "      <td>1</td>\n",
       "    </tr>\n",
       "    <tr>\n",
       "      <th>3</th>\n",
       "      <td>thuận tiện , sạch sẽ , vui vẻ hài lòng</td>\n",
       "      <td>1</td>\n",
       "    </tr>\n",
       "    <tr>\n",
       "      <th>4</th>\n",
       "      <td>Vị trí đẹp; Có quán bar view đẹp; Nhân viên th...</td>\n",
       "      <td>1</td>\n",
       "    </tr>\n",
       "    <tr>\n",
       "      <th>5</th>\n",
       "      <td>- Co view huong Ho tay- sach se-nhan vien tan ...</td>\n",
       "      <td>1</td>\n",
       "    </tr>\n",
       "    <tr>\n",
       "      <th>6</th>\n",
       "      <td>Phòng ốc sạch, giường thoải mái, nhân viên thâ...</td>\n",
       "      <td>1</td>\n",
       "    </tr>\n",
       "    <tr>\n",
       "      <th>7</th>\n",
       "      <td>gần Hồ Tây, view nhìn ra hồ lãng mạn, đi bộ dọ...</td>\n",
       "      <td>1</td>\n",
       "    </tr>\n",
       "    <tr>\n",
       "      <th>8</th>\n",
       "      <td>Hình thức không thể quyết định nội dung.H&amp;atil...</td>\n",
       "      <td>0</td>\n",
       "    </tr>\n",
       "    <tr>\n",
       "      <th>9</th>\n",
       "      <td>Tôi ở đây lần này là lần thứ 4. Khi nhận phòng...</td>\n",
       "      <td>-1</td>\n",
       "    </tr>\n",
       "  </tbody>\n",
       "</table>\n",
       "</div>"
      ],
      "text/plain": [
       "                                                Text Label\n",
       "0  Rộng rãi KS mới nhưng rất vắng. Các dịch vụ ch...     0\n",
       "1  Địa điểm thuận tiện, trong vòng bán kính 1,5km...     0\n",
       "2                          Phục vụ, view đẹp, vị trí     1\n",
       "3             thuận tiện , sạch sẽ , vui vẻ hài lòng     1\n",
       "4  Vị trí đẹp; Có quán bar view đẹp; Nhân viên th...     1\n",
       "5  - Co view huong Ho tay- sach se-nhan vien tan ...     1\n",
       "6  Phòng ốc sạch, giường thoải mái, nhân viên thâ...     1\n",
       "7  gần Hồ Tây, view nhìn ra hồ lãng mạn, đi bộ dọ...     1\n",
       "8  Hình thức không thể quyết định nội dung.H&atil...     0\n",
       "9  Tôi ở đây lần này là lần thứ 4. Khi nhận phòng...    -1"
      ]
     },
     "execution_count": 13,
     "metadata": {},
     "output_type": "execute_result"
    }
   ],
   "source": [
    "train_data_after_adding_label.head(10)"
   ]
  },
  {
   "cell_type": "code",
   "execution_count": 14,
   "metadata": {},
   "outputs": [
    {
     "data": {
      "text/plain": [
       "array(['Rộng rãi KS mới nhưng rất vắng. Các dịch vụ chất lượng chưa cao và thiếu.',\n",
       "       'Địa điểm thuận tiện, trong vòng bán kính 1,5km nhiều quán ăn ngon',\n",
       "       'Phục vụ, view đẹp, vị trí', ...,\n",
       "       'Xin chào Chudu24,Xin cám ơn dịch vụ booking của Chudu24 đã cho vợ chồng tôi có một kỳ nghỉ yên tâm, tin tưởng và thật thoải mái. ôi xin có một số đánh giá sau đây về Sapa View hotel:1. Phòng Deluxe garden view: Phòng sạch sẽ, tiện nghi, yên tĩnh, gần trung tâm và đặc biệt view rất đẹp nhìn xuống thung lũng với ruộng bậc thang mênh mông cùng với balcony rất ấn tượng cùng giỏ hoa mầu sắc. Do ở HN chỉ có điều hòa 2 chiều nên khi ở đó mình được trải nhiệm với lò sưởi bằng củi rất đặc trưng Sapa. Buổi tối ngồi bàn đôi cạnh lò sưởi cùng ánh nến ấm áp và li rượu vang thật là tuyệt vời ông mặt zời. 2. Phục vụ: Nhân viên phục vụ là mấy em người Mông nên rất là thật thà, chu đáo. Theo quy định 2h mới được nhận phòng nhưng do đến SaPa lúc 8AM bà chủ Sapa View đã chào đón niềm nở và cho nhận phòng luôn.3. Ăn uống: Thực đơn ăn sáng của khách sạn còn nghèo nàn nên mình cứ đến số 040 Mã Mây ăn ở đấy vừa ngon, yên tâm về chất lượng giá cũng không quá chát.* Hạn chế: Phòng hơi nhỏ để có thể thu hút khách đến vào dịp không phải mùa du lịch có thể tăng thêm dịch vụ hoặc giảm giá thành thì khách sạn sẽ đông khách hơn. Thực đơn của khách sạn giá hơi cao nên ít người chọn ăn tại KS. Tivi mới nhưng màn hình hơi nhỏ.Một lần nữa, rất cám ơn dịch vụ của Chudu24 cũng như Sapa View đã cho VC tôi có một cảm giác yên tâm trong kỳ nghỉ của mình. Lần sau, tôi chắc chắn sẽ booking qua Chudu24.',\n",
       "       'Đầu tiên về ưu điểm:- Phòng sạch sẽ, nội thất mới, view đẹp!Nhược điểm:- Quá xa trung tâm (đây là khách sạn cuối đường Mường Hoa). Đi bộ đi dạo đã mệt, nếu đi bộ lên hàm rồng thì coi kỳ nghỉ như là một khoảng thời gian luyện tập đi bộ khổ cực :(( Cứ về đến phòng là chân tay mỏi nhừ.- Là khách sạn trơ chọi ở tít cuối đường nên không có hàng quán nào quanh đó, muốn ăn uống thì lại phải đi bộ....- Khách sạn nói có buffer sáng nhưng với lượng khách (2/9 mà cả khách sạn có vài phòng có khách) khu vực ăn sáng có vài khách thì không có buffet sáng là điều có thể thông cảm! Tuy nhiên đồ ăn thì không thể chán hơn, ks chỉ cho phép được gọi 1 đồ ăn+ 1 đồ uống. Vợ chồng mình gọi 2 phở gà vs 2 cốc nước chanh! Phở thì nhũn, gà thì bở bở và có vẻ như đã để mấy hôm vậy:(( Nước chanh thì không khác nước lọc là mấy! Mình đi du lịch cũng nhiều nhưng chưa bao h ăn sáng ở nơi nào chán như thế này! Ăn sáng xong lại phải đi bộ đi ăn thêm cái khác!:( So với giá tiền 940k, mình mong muốn được hưởng dịch vụ tương ứng nhưng mình thấy thất vọng, khách sạn này tầm 400-600k/ 1 ngày là phù hợp thôi! Giờ mình đã hiểu vì sao trong dịp nghỉ lễ 2/9 mà cả khách sạn chỉ có vài khách rồi! Đảm bảo không bao giờ quay lại đây nữa!',\n",
       "       'Tôi ở đây 1 đêm và thấy khách sạn khá đẹp, lạ và yên tĩnh để nghỉ ngơi.Nhân viên khách sạn và ông chủ đối xử với khách như đã quen biết từ lâu, chuyện trò rất vui vẻ và tôi rất thoải mái khi ở đây.&nbspC&aacutem ơn ông chủ và khách sạn, sẽ quay lại nếu có dịp.'],\n",
       "      dtype=object)"
      ]
     },
     "execution_count": 14,
     "metadata": {},
     "output_type": "execute_result"
    }
   ],
   "source": [
    "train_data_after_adding_label.Text.values"
   ]
  },
  {
   "cell_type": "code",
   "execution_count": 15,
   "metadata": {},
   "outputs": [],
   "source": [
    "#clean_train_data_raw = pd.read_csv(clean_train_data_raw.csv)"
   ]
  },
  {
   "cell_type": "code",
   "execution_count": 16,
   "metadata": {},
   "outputs": [],
   "source": [
    "def process_data(data):\n",
    "    sentences = []\n",
    "    stop_words = open('Dataset_For_Work\\\\vietnamese-stopwords.txt','r',encoding='utf-8').read().split('\\n')\n",
    "    for item in data:\n",
    "        processed_item = item.lower()\n",
    "        # for s_t in stop_words:\n",
    "\n",
    "        #     processed_item = re.sub(rf\" {s_t} \", ' ', processed_item)\n",
    "\n",
    "        processed_item = re.sub(f'[{punctuation}]',' ',processed_item)\n",
    "        processed_item = re.sub(f'\\s+',' ',processed_item)\n",
    "        temp = underthesea.sent_tokenize(processed_item)\n",
    "        sentences += temp\n",
    "\n",
    "    tokenize_data = [underthesea.word_tokenize(i) for i in sentences]\n",
    "\n",
    "    return tokenize_data, sentences"
   ]
  },
  {
   "cell_type": "code",
   "execution_count": 17,
   "metadata": {},
   "outputs": [],
   "source": [
    "token_train,sentences_train = process_data(train_data_after_adding_label.Text.values)\n",
    "token_test,sentences_test = process_data(test_data_after_adding_label.Text.values)    \n",
    "token_valid,sentences_valid = process_data(valid_data_after_adding_label.Text.values)"
   ]
  },
  {
   "cell_type": "code",
   "execution_count": 18,
   "metadata": {},
   "outputs": [
    {
     "data": {
      "text/plain": [
       "['trang thiết bị',\n",
       " 'trong',\n",
       " 'phòng không',\n",
       " 'tốt',\n",
       " 'lắm',\n",
       " 'tivi',\n",
       " 'vẫn',\n",
       " 'còn',\n",
       " 'sử dụng',\n",
       " 'model',\n",
       " 'đời',\n",
       " 'cũ',\n",
       " 'tiêu chuẩn',\n",
       " 'như',\n",
       " '3',\n",
       " 'sao',\n",
       " 'thì',\n",
       " 'tv',\n",
       " 'phải',\n",
       " 'sử dụng',\n",
       " 'lcd',\n",
       " 'nhân viên',\n",
       " 'tiếp tân',\n",
       " 'chưa',\n",
       " 'tư vấn',\n",
       " 'cho',\n",
       " 'khách',\n",
       " 'nhiệt tình',\n",
       " 'về',\n",
       " 'các',\n",
       " 'dịch vụ',\n",
       " 'và',\n",
       " 'khuyến mại',\n",
       " 'của',\n",
       " 'khách sạn']"
      ]
     },
     "execution_count": 18,
     "metadata": {},
     "output_type": "execute_result"
    }
   ],
   "source": [
    "token_train[88]"
   ]
  },
  {
   "cell_type": "code",
   "execution_count": 19,
   "metadata": {},
   "outputs": [],
   "source": [
    "# clean_train_data_raw"
   ]
  },
  {
   "cell_type": "code",
   "execution_count": 20,
   "metadata": {},
   "outputs": [],
   "source": [
    "def process_data2(data):\n",
    "    data_doc = []\n",
    "    stop_words = open('Dataset_For_Work\\\\vietnamese-stopwords.txt','r',encoding='utf-8').read().split('\\n')\n",
    "    for item in data:\n",
    "        processed_item = item.lower()\n",
    "        # for s_t in stop_words:\n",
    "        #     processed_item = re.sub(rf\" {s_t} \", ' ', processed_item)\n",
    "        processed_item = re.sub(f'[{punctuation}]',' ',processed_item)\n",
    "        processed_item = re.sub(f'\\s+',' ',processed_item)\n",
    "        temp = underthesea.sent_tokenize(processed_item)\n",
    "        tokenize_data = []\n",
    "        for i in temp:\n",
    "          tokenize_data += underthesea.word_tokenize(i)\n",
    "        data_doc.append(tokenize_data)\n",
    "    return data_doc"
   ]
  },
  {
   "cell_type": "code",
   "execution_count": 21,
   "metadata": {},
   "outputs": [],
   "source": [
    "process_train_data_raw = process_data2(train_data_after_adding_label.Text.values)\n",
    "process_test_data_raw = process_data2(test_data_after_adding_label.Text.values)\n",
    "process_valid_data_raw = process_data2(valid_data_after_adding_label.Text.values)"
   ]
  },
  {
   "cell_type": "code",
   "execution_count": 22,
   "metadata": {},
   "outputs": [
    {
     "data": {
      "text/plain": [
       "['trang thiết bị',\n",
       " 'trong',\n",
       " 'phòng không',\n",
       " 'tốt',\n",
       " 'lắm',\n",
       " 'tivi',\n",
       " 'vẫn',\n",
       " 'còn',\n",
       " 'sử dụng',\n",
       " 'model',\n",
       " 'đời',\n",
       " 'cũ',\n",
       " 'tiêu chuẩn',\n",
       " 'như',\n",
       " '3',\n",
       " 'sao',\n",
       " 'thì',\n",
       " 'tv',\n",
       " 'phải',\n",
       " 'sử dụng',\n",
       " 'lcd',\n",
       " 'nhân viên',\n",
       " 'tiếp tân',\n",
       " 'chưa',\n",
       " 'tư vấn',\n",
       " 'cho',\n",
       " 'khách',\n",
       " 'nhiệt tình',\n",
       " 'về',\n",
       " 'các',\n",
       " 'dịch vụ',\n",
       " 'và',\n",
       " 'khuyến mại',\n",
       " 'của',\n",
       " 'khách sạn']"
      ]
     },
     "execution_count": 22,
     "metadata": {},
     "output_type": "execute_result"
    }
   ],
   "source": [
    "process_train_data_raw[88]"
   ]
  },
  {
   "cell_type": "code",
   "execution_count": 23,
   "metadata": {},
   "outputs": [],
   "source": [
    "def convert_data_to_vector(data,model,max_length):\n",
    "\n",
    "    vector_data = []\n",
    "    for item in data:\n",
    "        temp = []\n",
    "        for word in item:\n",
    "            try:\n",
    "                temp.append(model.wv.get_vector(word))\n",
    "            except KeyError:\n",
    "                print(word)\n",
    "                print('Từ này không có trong từ điển :))')\n",
    "                continue\n",
    "        \n",
    "        # Padding câhu để đồng nhất kích thước của vector, phục vụ cho quá trình train\n",
    "        while len(temp) < max_length:\n",
    "            temp.append(np.zeros(model.wv.vector_size))  # Thêm vector 0\n",
    "        \n",
    "        # Cắt bớt nếu câu dài hơn max_length\n",
    "        temp = temp[:max_length]\n",
    "        \n",
    "        vector_data.append(np.array(temp))\n",
    "    \n",
    "    # Chuyển embedding vector sang Tensor\n",
    "    vector_data = np.array(vector_data) \n",
    "    return torch.tensor(vector_data, dtype=torch.float32) # (batch_size, max_length, embedding_dim)\n",
    "\n",
    "\n",
    "#Tensor chứa list các vector câu \n",
    "#Kích thước cảu Tensor là (số lượng câu,kích thước của 1 câu,số chiều của vector embedding)\n",
    "#Ví dụ có câu #Tôi đi học\n",
    "#Tensor có dạng\n",
    "#[[vector tôi],[vector đi],[vector học]]"
   ]
  },
  {
   "cell_type": "code",
   "execution_count": 24,
   "metadata": {},
   "outputs": [],
   "source": [
    "MAX_LENGTH = 150 #số từ tối đa trong vector câu là 150"
   ]
  },
  {
   "cell_type": "code",
   "execution_count": 25,
   "metadata": {},
   "outputs": [],
   "source": [
    "w2v_model = gensim.models.Word2Vec(sentences=token_train + token_test + token_valid,\n",
    "                               min_count=1,\n",
    "                               vector_size=128,\n",
    "                               alpha=0.001,\n",
    "                               window=5,\n",
    "                               epochs=5000,\n",
    "                               )"
   ]
  },
  {
   "cell_type": "code",
   "execution_count": 26,
   "metadata": {},
   "outputs": [],
   "source": [
    "from torch.utils.data import DataLoader, TensorDataset"
   ]
  },
  {
   "cell_type": "code",
   "execution_count": 12,
   "metadata": {},
   "outputs": [
    {
     "ename": "NameError",
     "evalue": "name 'convert_data_to_vector' is not defined",
     "output_type": "error",
     "traceback": [
      "\u001b[1;31m---------------------------------------------------------------------------\u001b[0m",
      "\u001b[1;31mNameError\u001b[0m                                 Traceback (most recent call last)",
      "Cell \u001b[1;32mIn[12], line 2\u001b[0m\n\u001b[0;32m      1\u001b[0m \u001b[38;5;66;03m# Chuyển đổi x_train và x_test sang vector rồi padding\u001b[39;00m\n\u001b[1;32m----> 2\u001b[0m x_train_vector \u001b[38;5;241m=\u001b[39m \u001b[43mconvert_data_to_vector\u001b[49m(data\u001b[38;5;241m=\u001b[39mprocess_train_data_raw, model\u001b[38;5;241m=\u001b[39mw2v_model, max_length\u001b[38;5;241m=\u001b[39mMAX_LENGTH)\n\u001b[0;32m      3\u001b[0m x_test_vector \u001b[38;5;241m=\u001b[39m convert_data_to_vector(data\u001b[38;5;241m=\u001b[39mprocess_test_data_raw, model\u001b[38;5;241m=\u001b[39mw2v_model, max_length\u001b[38;5;241m=\u001b[39mMAX_LENGTH)\n\u001b[0;32m      4\u001b[0m \u001b[38;5;66;03m#Chuyển nhãn từ -1 -> 0 , 0->1 , 1->2 để dùng softmax\u001b[39;00m\n",
      "\u001b[1;31mNameError\u001b[0m: name 'convert_data_to_vector' is not defined"
     ]
    }
   ],
   "source": [
    "# Chuyển đổi x_train và x_test sang vector rồi padding\n",
    "x_train_vector = convert_data_to_vector(data=process_train_data_raw, model=w2v_model, max_length=MAX_LENGTH)\n",
    "x_test_vector = convert_data_to_vector(data=process_test_data_raw, model=w2v_model, max_length=MAX_LENGTH)\n",
    "#Chuyển nhãn từ -1 -> 0 , 0->1 , 1->2 để dùng softmax\n",
    "y_train = np.array(train_data_after_adding_label.Label.values, dtype=np.int64)+1\n",
    "y_test = np.array(test_data_after_adding_label.Label.values, dtype=np.int64)+1\n",
    "\n",
    "y_train = torch.tensor(y_train, dtype=torch.long)\n",
    "y_test = torch.tensor(y_test, dtype=torch.long)\n",
    "\n",
    "train_dataset = TensorDataset(x_train_vector, y_train)\n",
    "test_dataset = TensorDataset(x_test_vector, y_test)\n",
    "\n",
    "train_loader = DataLoader(train_dataset, batch_size=128, shuffle=True)\n",
    "test_loader = DataLoader(test_dataset, batch_size=128, shuffle=False)\n",
    "\n",
    "#Batch size là số lượng mẫu dữ liệu được xử lý cùng lúc trong 1 lần huấn luyện\n",
    "#Ví dụ 300 mẫu dữ liệu thì nó sẽ tác động 128 mẫu đầu / batch\n",
    "#rồi tiếp tục cho đến khi áp dụng phần dư còn lại nốt tính là 1 batch nữa"
   ]
  },
  {
   "cell_type": "code",
   "execution_count": 38,
   "metadata": {},
   "outputs": [
    {
     "data": {
      "text/plain": [
       "[('nhiệt tình', 0.7553317546844482),\n",
       " ('vui vẻ', 0.7392646074295044),\n",
       " ('chu đáo', 0.7346993684768677),\n",
       " ('rất', 0.7336927056312561),\n",
       " ('và', 0.7138797640800476),\n",
       " ('sạch sẽ', 0.7034746408462524),\n",
       " ('phục vụ', 0.6935542821884155),\n",
       " ('nhân viên', 0.6853048205375671),\n",
       " ('dễ thương', 0.6767162084579468),\n",
       " ('thoải mái', 0.6702884435653687)]"
      ]
     },
     "execution_count": 38,
     "metadata": {},
     "output_type": "execute_result"
    }
   ],
   "source": [
    "w2v_model.wv.most_similar('thân thiện')"
   ]
  },
  {
   "cell_type": "code",
   "execution_count": 29,
   "metadata": {},
   "outputs": [],
   "source": [
    "import torch\n",
    "import torch.nn as nn\n",
    "import torch.nn.functional as F\n",
    "\n",
    "class SentimentCNNLSTM(nn.Module):\n",
    "    def __init__(self, input_dim=None, hidden_dim=None, num_layers=1, num_filters=128, filter_sizes=[2, 3, 4], num_classes=3, dropout_rate=0.5):\n",
    "        super(SentimentCNNLSTM, self).__init__()\n",
    "        \n",
    "        # Convolutional layers với BatchNorm và ReLU\n",
    "        self.convs = nn.ModuleList([\n",
    "            nn.Sequential(\n",
    "                nn.Conv1d(in_channels=input_dim, \n",
    "                          out_channels=num_filters, \n",
    "                          kernel_size=fs),\n",
    "                nn.BatchNorm1d(num_filters),\n",
    "                nn.ReLU()\n",
    "            )\n",
    "            for fs in filter_sizes\n",
    "        ])\n",
    "        \n",
    "        # LSTM layer\n",
    "        self.lstm = nn.LSTM(input_size=len(filter_sizes) * num_filters, \n",
    "                            hidden_size=hidden_dim, \n",
    "                            num_layers=num_layers, \n",
    "                            batch_first=True, \n",
    "                            bidirectional=True)\n",
    "        \n",
    "        # Dropout layer\n",
    "        self.dropout = nn.Dropout(dropout_rate)\n",
    "        \n",
    "        # Fully connected layer\n",
    "        self.fc = nn.Linear(2 * hidden_dim, num_classes)  # Bidirectional nên 2 * hidden_dim\n",
    "\n",
    "    def forward(self, x):\n",
    "        # Đầu vào: (batch_size, sequence_length, embedding_dim)\n",
    "        # Đổi chiều thành: (batch_size, embedding_dim, sequence_length) (Mục đích là phục vụ cho việc cho vào Conv1d)\n",
    "        x = x.permute(0, 2, 1) #Đây là dòng đổi chiều\n",
    "        \n",
    "        # Áp dụng convolution và global max pooling\n",
    "        conv_results = []\n",
    "        for conv in self.convs:\n",
    "            conved = conv(x)  # (batch_size, num_filters, new_seq_length)\n",
    "            pooled = F.max_pool1d(conved, kernel_size=conved.shape[2]).squeeze(2)  # (batch_size, num_filters)\n",
    "            conv_results.append(pooled)\n",
    "        \n",
    "        # Nối kết quả từ các filters lại thành 1 tensor\n",
    "        x = torch.cat(conv_results, dim=1)  # (batch_size, len(filter_sizes) * num_filters)\n",
    "        \n",
    "        # Thêm chiều sequence_length=1 để phù hợp đầu vào LSTM\n",
    "        x = x.unsqueeze(1)  # (batch_size, 1, len(filter_sizes) * num_filters)\n",
    "        \n",
    "        # LSTM layer\n",
    "        lstm_out, _ = self.lstm(x)  # lstm_out: (batch_size, seq_length=1, 2*hidden_dim)\n",
    "        lstm_out = lstm_out[:, -1, :]  # Lấy output cuối cùng (batch_size, 2*hidden_dim)\n",
    "        \n",
    "        # Dropout\n",
    "        x = self.dropout(lstm_out)\n",
    "        \n",
    "        # Fully connected layer\n",
    "        logits = self.fc(x)\n",
    "        \n",
    "        return logits\n",
    "\n",
    "\n",
    "# Khởi tạo mô hình\n",
    "input_dim = x_train_vector.shape[2]  # Số chiều embedding (embedding_dim)\n",
    "hidden_dim = 128  # Kích thước hidden state của LSTM\n",
    "num_layers = 1  # Số layer LSTM\n",
    "num_filters = 128  # Số lượng filters cho CNN\n",
    "filter_sizes = [2, 3, 4]  # Kích thước các filters\n",
    "num_classes = 3  # Số lớp đầu ra\n",
    "dropout_rate = 0.5  # Tỉ lệ dropout\n",
    "\n",
    "# Khởi tạo mô hình SentimentCNNLSTM\n",
    "model = SentimentCNNLSTM(\n",
    "    input_dim=input_dim, \n",
    "    hidden_dim=hidden_dim, \n",
    "    num_layers=num_layers,\n",
    "    num_filters=num_filters, \n",
    "    filter_sizes=filter_sizes, \n",
    "    num_classes=num_classes,\n",
    "    dropout_rate=dropout_rate\n",
    ")\n",
    "\n",
    "# Chọn hàm loss và optimizer\n",
    "criterion = nn.CrossEntropyLoss()  # CrossEntropyLoss cho bài toán phân loại nhiều lớp\n",
    "optimizer = torch.optim.Adam(model.parameters(), lr=0.001, weight_decay=1e-5)  # Adam optimizer với weight decay\n",
    "#Thực ra có thể cho thêm Early Stopping nhưng em quên chưa cho vào :D\n"
   ]
  },
  {
   "cell_type": "code",
   "execution_count": 30,
   "metadata": {},
   "outputs": [
    {
     "name": "stdout",
     "output_type": "stream",
     "text": [
      "SentimentCNNLSTM(\n",
      "  (convs): ModuleList(\n",
      "    (0): Sequential(\n",
      "      (0): Conv1d(128, 128, kernel_size=(2,), stride=(1,))\n",
      "      (1): BatchNorm1d(128, eps=1e-05, momentum=0.1, affine=True, track_running_stats=True)\n",
      "      (2): ReLU()\n",
      "    )\n",
      "    (1): Sequential(\n",
      "      (0): Conv1d(128, 128, kernel_size=(3,), stride=(1,))\n",
      "      (1): BatchNorm1d(128, eps=1e-05, momentum=0.1, affine=True, track_running_stats=True)\n",
      "      (2): ReLU()\n",
      "    )\n",
      "    (2): Sequential(\n",
      "      (0): Conv1d(128, 128, kernel_size=(4,), stride=(1,))\n",
      "      (1): BatchNorm1d(128, eps=1e-05, momentum=0.1, affine=True, track_running_stats=True)\n",
      "      (2): ReLU()\n",
      "    )\n",
      "  )\n",
      "  (lstm): LSTM(384, 128, batch_first=True, bidirectional=True)\n",
      "  (dropout): Dropout(p=0.5, inplace=False)\n",
      "  (fc): Linear(in_features=256, out_features=3, bias=True)\n",
      ")\n"
     ]
    }
   ],
   "source": [
    "print(model)"
   ]
  },
  {
   "cell_type": "markdown",
   "metadata": {},
   "source": [
    "Chỉ cần chạy file model.pth để test model"
   ]
  },
  {
   "cell_type": "code",
   "execution_count": 31,
   "metadata": {},
   "outputs": [],
   "source": [
    "# from sklearn.metrics import accuracy_score, confusion_matrix\n",
    "# import seaborn as sns\n",
    "# import matplotlib.pyplot as plt\n",
    "\n",
    "# num_epochs = 1000\n",
    "\n",
    "# for epoch in range(num_epochs):\n",
    "#     model.train()\n",
    "#     total_loss = 0\n",
    "    \n",
    "#     for x_batch, y_batch in train_loader:\n",
    "#         optimizer.zero_grad()  # Reset gradient\n",
    "#         outputs = model(x_batch)  # Forward pass\n",
    "#         loss = criterion(outputs, y_batch)  # Tính loss\n",
    "#         loss.backward()  # Backward pass\n",
    "#         optimizer.step()  # Cập nhật trọng số\n",
    "        \n",
    "#         total_loss += loss.item()\n",
    "    \n",
    "#     print(f\"Epoch [{epoch+1}/{num_epochs}], Loss: {total_loss / len(train_loader):.4f}\")\n",
    "\n",
    "# model.eval()  # Chuyển mô hình sang chế độ đánh giá\n",
    "# y_true = []\n",
    "# y_pred = []\n",
    "\n",
    "# with torch.no_grad():  # Không tính gradient khi test\n",
    "#     for x_batch, y_batch in test_loader:\n",
    "#         outputs = model(x_batch)  # Forward pass\n",
    "#         _, predicted = torch.max(outputs, 1)  # Lấy chỉ số của lớp có xác suất cao nhất\n",
    "        \n",
    "#         y_true.extend(y_batch.cpu().numpy())  # Ghi lại nhãn thực tế\n",
    "#         y_pred.extend(predicted.cpu().numpy())  # Ghi lại nhãn dự đoán\n",
    "\n",
    "\n",
    "# accuracy = accuracy_score(y_true, y_pred)\n",
    "# print(f\"\\nTest Accuracy: {accuracy * 100:.2f}%\")\n",
    "\n",
    "# matrix = confusion_matrix(y_true, y_pred)\n",
    "\n",
    "# plt.figure(figsize=(8, 6))\n",
    "# sns.heatmap(matrix, annot=True, fmt='d', cmap='Blues', xticklabels=['Negative', 'Neutral', 'Positive'], yticklabels=['Negative', 'Neutral', 'Positive'])\n",
    "# plt.xlabel('Predicted')\n",
    "# plt.ylabel('Actual')\n",
    "# plt.title('Confusion Matrix')\n",
    "# plt.show()\n"
   ]
  },
  {
   "cell_type": "code",
   "execution_count": 32,
   "metadata": {},
   "outputs": [],
   "source": [
    "# import torch\n",
    "\n",
    "# torch.save(model.state_dict(), 'model.pth')  # Lưu model với tên file 'model.pth'\n",
    "\n"
   ]
  },
  {
   "cell_type": "code",
   "execution_count": 33,
   "metadata": {},
   "outputs": [
    {
     "name": "stdout",
     "output_type": "stream",
     "text": [
      "Model has been loaded successfully!\n",
      "\n",
      "Test Accuracy: 69.20%\n"
     ]
    },
    {
     "data": {
      "image/png": "[encoded data removed]",
      "text/plain": [
       "<Figure size 800x600 with 2 Axes>"
      ]
     },
     "metadata": {},
     "output_type": "display_data"
    },
    {
     "name": "stdout",
     "output_type": "stream",
     "text": [
      "\n",
      "Classification Report:\n",
      "              precision    recall  f1-score   support\n",
      "\n",
      "    Negative       0.41      0.42      0.41       172\n",
      "     Neutral       0.71      0.44      0.54       786\n",
      "    Positive       0.72      0.93      0.81      1042\n",
      "\n",
      "    accuracy                           0.69      2000\n",
      "   macro avg       0.61      0.60      0.59      2000\n",
      "weighted avg       0.69      0.69      0.67      2000\n",
      "\n"
     ]
    }
   ],
   "source": [
    "import torch\n",
    "from sklearn.metrics import accuracy_score, confusion_matrix, classification_report\n",
    "import matplotlib.pyplot as plt\n",
    "import seaborn as sns\n",
    "model.load_state_dict(torch.load('model.pth'))\n",
    "model.eval()  \n",
    "\n",
    "print(\"Model has been loaded successfully!\")\n",
    "\n",
    "model.eval() \n",
    "y_true = []\n",
    "y_pred = []\n",
    "\n",
    "with torch.no_grad(): \n",
    "    for x_batch, y_batch in test_loader:\n",
    "        outputs = model(x_batch)  \n",
    "        _, predicted = torch.max(outputs, 1) \n",
    "    \n",
    "        y_true.extend(y_batch.cpu().numpy())  \n",
    "        y_pred.extend(predicted.cpu().numpy()) \n",
    "\n",
    "accuracy = accuracy_score(y_true, y_pred)\n",
    "print(f\"\\nTest Accuracy: {accuracy * 100:.2f}%\")\n",
    "\n",
    "matrix = confusion_matrix(y_true, y_pred)\n",
    "\n",
    "plt.figure(figsize=(8, 6))\n",
    "sns.heatmap(matrix, annot=True, fmt='d', cmap='Blues', xticklabels=['Negative', 'Neutral', 'Positive'], yticklabels=['Negative', 'Neutral', 'Positive'])\n",
    "plt.xlabel('Predicted')\n",
    "plt.ylabel('Actual')\n",
    "plt.title('Confusion Matrix')\n",
    "plt.show()\n",
    "class_report = classification_report(y_true, y_pred, target_names=['Negative', 'Neutral', 'Positive'])\n",
    "print(\"\\nClassification Report:\")\n",
    "print(class_report)"
   ]
  },
  {
   "cell_type": "code",
   "execution_count": 34,
   "metadata": {},
   "outputs": [],
   "source": [
    "from transformers import AutoTokenizer, AutoModelForSequenceClassification\n",
    "import torch\n",
    "import os\n",
    "\n",
    "\n",
    "def clear():\n",
    "    os.system('clear')\n",
    "\n",
    "y_pred = []\n",
    "checkpoint = \"mr4/phobert-base-vi-sentiment-analysis\"\n",
    "tokenizer = AutoTokenizer.from_pretrained(checkpoint)\n",
    "phobert_model = AutoModelForSequenceClassification.from_pretrained(checkpoint)\n",
    "clear()\n",
    "for input_text in test_data_after_adding_label.Text:\n",
    "    raw_inputs = [input_text]\n",
    "    inputs = tokenizer(raw_inputs, padding=True,\n",
    "                    truncation=True, return_tensors=\"pt\")\n",
    "    outputs = phobert_model(**inputs)\n",
    "    predictions = torch.nn.functional.softmax(outputs.logits, dim=-1)\n",
    "    \n",
    "    dict_label = {'Trung tính' : 1,'Tiêu cực':0,'Tích cực':2}\n",
    "    clear()\n",
    "    for i, prediction in enumerate(predictions):\n",
    "        predicted_label_idx = torch.argmax(prediction).item()  # Lấy chỉ số của giá trị lớn nhất\n",
    "        predicted_label = phobert_model.config.id2label[predicted_label_idx] #Lấy tên class\n",
    "        y_pred.append(dict_label[predicted_label])\n"
   ]
  },
  {
   "cell_type": "code",
   "execution_count": 35,
   "metadata": {},
   "outputs": [
    {
     "name": "stdout",
     "output_type": "stream",
     "text": [
      "\n",
      "Test Accuracy: 64.25%\n"
     ]
    },
    {
     "data": {
      "image/png": "[encoded data removed]",
      "text/plain": [
       "<Figure size 800x600 with 2 Axes>"
      ]
     },
     "metadata": {},
     "output_type": "display_data"
    }
   ],
   "source": [
    "accuracy = accuracy_score(y_true, y_pred)\n",
    "print(f\"\\nTest Accuracy: {accuracy * 100:.2f}%\")\n",
    "\n",
    "matrix = confusion_matrix(y_true, y_pred)\n",
    "\n",
    "plt.figure(figsize=(8, 6))\n",
    "sns.heatmap(matrix, annot=True, fmt='d', cmap='Blues', xticklabels=['Negative', 'Neutral', 'Positive'], yticklabels=['Negative', 'Neutral', 'Positive'])\n",
    "plt.xlabel('Predicted')\n",
    "plt.ylabel('Actual')\n",
    "plt.title('Confusion Matrix')\n",
    "plt.show()"
   ]
  },
  {
   "cell_type": "markdown",
   "metadata": {},
   "source": [
    "Test với 2 mô hình Logistic Regression và Naive Bayes để so sánh với CNN"
   ]
  },
  {
   "cell_type": "code",
   "execution_count": 36,
   "metadata": {},
   "outputs": [
    {
     "name": "stdout",
     "output_type": "stream",
     "text": [
      "Logistic Regression Results:\n",
      "Accuracy: 0.6465\n",
      "\n",
      "Classification Report:\n",
      "              precision    recall  f1-score   support\n",
      "\n",
      "    Negative       0.35      0.38      0.36       172\n",
      "     Neutral       0.61      0.53      0.57       786\n",
      "    Positive       0.72      0.78      0.75      1042\n",
      "\n",
      "    accuracy                           0.65      2000\n",
      "   macro avg       0.56      0.56      0.56      2000\n",
      "weighted avg       0.64      0.65      0.64      2000\n",
      "\n",
      "\n",
      "Multinomial Naive Bayes Results:\n",
      "Accuracy: 0.4865\n",
      "\n",
      "Classification Report:\n",
      "              precision    recall  f1-score   support\n",
      "\n",
      "    Negative       0.26      0.13      0.17       172\n",
      "     Neutral       0.44      0.91      0.60       786\n",
      "    Positive       0.77      0.23      0.35      1042\n",
      "\n",
      "    accuracy                           0.49      2000\n",
      "   macro avg       0.49      0.42      0.37      2000\n",
      "weighted avg       0.60      0.49      0.43      2000\n",
      "\n"
     ]
    }
   ],
   "source": [
    "from sklearn.linear_model import LogisticRegression\n",
    "from sklearn.naive_bayes import MultinomialNB\n",
    "from sklearn.preprocessing import StandardScaler\n",
    "\n",
    "# Reshape data for scikit-learn (flattening the 3D tensor to 2D)\n",
    "x_train_reshaped = x_train_vector.reshape(x_train_vector.shape[0], -1)\n",
    "x_test_reshaped = x_test_vector.reshape(x_test_vector.shape[0], -1)\n",
    "\n",
    "if torch.is_tensor(x_train_reshaped):\n",
    "    x_train_reshaped = x_train_reshaped.numpy()\n",
    "    x_test_reshaped = x_test_reshaped.numpy()\n",
    "if torch.is_tensor(y_train):\n",
    "    y_train_np = y_train.numpy()\n",
    "    y_test_np = y_test.numpy()\n",
    "else:\n",
    "    y_train_np = y_train\n",
    "    y_test_np = y_test\n",
    "\n",
    "scaler = StandardScaler()\n",
    "x_train_scaled = scaler.fit_transform(x_train_reshaped)\n",
    "x_test_scaled = scaler.transform(x_test_reshaped)\n",
    "\n",
    "# 1. Logistic Regression\n",
    "lr_model = LogisticRegression(max_iter=1000, multi_class='multinomial')\n",
    "lr_model.fit(x_train_scaled, y_train_np)\n",
    "lr_predictions = lr_model.predict(x_test_scaled)\n",
    "lr_accuracy = accuracy_score(y_test_np, lr_predictions)\n",
    "\n",
    "# 2. Naive Bayes\n",
    "x_train_nb = x_train_scaled - x_train_scaled.min()\n",
    "x_test_nb = x_test_scaled - x_test_scaled.min()\n",
    "\n",
    "nb_model = MultinomialNB()\n",
    "nb_model.fit(x_train_nb, y_train_np)\n",
    "nb_predictions = nb_model.predict(x_test_nb)\n",
    "nb_accuracy = accuracy_score(y_test_np, nb_predictions)\n",
    "\n",
    "# Print results\n",
    "print(\"Logistic Regression Results:\")\n",
    "print(f\"Accuracy: {lr_accuracy:.4f}\")\n",
    "print(\"\\nClassification Report:\")\n",
    "print(classification_report(y_test_np, lr_predictions, \n",
    "                          target_names=['Negative', 'Neutral', 'Positive']))\n",
    "\n",
    "print(\"\\nMultinomial Naive Bayes Results:\")\n",
    "print(f\"Accuracy: {nb_accuracy:.4f}\")\n",
    "print(\"\\nClassification Report:\")\n",
    "print(classification_report(y_test_np, nb_predictions, \n",
    "                          target_names=['Negative', 'Neutral', 'Positive']))\n"
   ]
  },
  {
   "cell_type": "code",
   "execution_count": 15,
   "metadata": {},
   "outputs": [
    {
     "data": {
      "text/plain": [
       "array([ 0,  0,  1, ...,  0, -1,  1], dtype=int64)"
      ]
     },
     "execution_count": 15,
     "metadata": {},
     "output_type": "execute_result"
    }
   ],
   "source": [
    "y_train"
   ]
  },
  {
   "cell_type": "code",
   "execution_count": 17,
   "metadata": {},
   "outputs": [
    {
     "data": {
      "text/plain": [
       "(2000,)"
      ]
     },
     "execution_count": 17,
     "metadata": {},
     "output_type": "execute_result"
    }
   ],
   "source": [
    "y_test.shape"
   ]
  },
  {
   "cell_type": "code",
   "execution_count": 72,
   "metadata": {},
   "outputs": [],
   "source": [
    "result_openAI = open('openai_result.txt',encoding='utf-8').readlines()"
   ]
  },
  {
   "cell_type": "code",
   "execution_count": 73,
   "metadata": {},
   "outputs": [],
   "source": [
    "result_openAI = [r.strip() for r in result_openAI]"
   ]
  },
  {
   "cell_type": "code",
   "execution_count": 74,
   "metadata": {},
   "outputs": [
    {
     "data": {
      "text/plain": [
       "2000"
      ]
     },
     "execution_count": 74,
     "metadata": {},
     "output_type": "execute_result"
    }
   ],
   "source": [
    "len(result_openAI)"
   ]
  },
  {
   "cell_type": "code",
   "execution_count": 75,
   "metadata": {},
   "outputs": [],
   "source": [
    "final_res_openAI = []"
   ]
  },
  {
   "cell_type": "code",
   "execution_count": 76,
   "metadata": {},
   "outputs": [],
   "source": [
    "for i in result_openAI:\n",
    "    if(len(i) > 1):\n",
    "        if(i.split(':')[1].strip()[0] == '-'):\n",
    "            final_res_openAI.append(-1)\n",
    "        else:\n",
    "            final_res_openAI.append(int(i.split(':')[1].strip()[0]))"
   ]
  },
  {
   "cell_type": "code",
   "execution_count": 77,
   "metadata": {},
   "outputs": [],
   "source": [
    "final_res_openAI = np.array(final_res_openAI,dtype=np.int64)"
   ]
  },
  {
   "cell_type": "code",
   "execution_count": 78,
   "metadata": {},
   "outputs": [
    {
     "data": {
      "text/plain": [
       "(2000,)"
      ]
     },
     "execution_count": 78,
     "metadata": {},
     "output_type": "execute_result"
    }
   ],
   "source": [
    "final_res_openAI.shape"
   ]
  },
  {
   "cell_type": "code",
   "execution_count": 84,
   "metadata": {},
   "outputs": [
    {
     "data": {
      "text/plain": [
       "array([ 1,  0,  1,  1,  1,  1,  0, -1,  1,  1,  1,  1,  0,  1, -1,  1,  1,\n",
       "        1,  1,  1], dtype=int64)"
      ]
     },
     "execution_count": 84,
     "metadata": {},
     "output_type": "execute_result"
    }
   ],
   "source": [
    "y_test[:20]"
   ]
  },
  {
   "cell_type": "code",
   "execution_count": 83,
   "metadata": {},
   "outputs": [
    {
     "data": {
      "text/plain": [
       "array([ 1,  0,  1,  1,  1,  1,  0,  0,  0,  1,  1,  1,  1,  1, -1,  1,  1,\n",
       "        1,  1,  0], dtype=int64)"
      ]
     },
     "execution_count": 83,
     "metadata": {},
     "output_type": "execute_result"
    }
   ],
   "source": [
    "final_res_openAI[:20]"
   ]
  },
  {
   "cell_type": "code",
   "execution_count": 79,
   "metadata": {},
   "outputs": [],
   "source": [
    "from sklearn.metrics import accuracy_score, confusion_matrix, classification_report\n"
   ]
  },
  {
   "cell_type": "code",
   "execution_count": 80,
   "metadata": {},
   "outputs": [
    {
     "name": "stdout",
     "output_type": "stream",
     "text": [
      "0.376\n"
     ]
    }
   ],
   "source": [
    "print(accuracy_score(y_test,final_res_openAI))\n"
   ]
  },
  {
   "cell_type": "code",
   "execution_count": 86,
   "metadata": {},
   "outputs": [
    {
     "name": "stdout",
     "output_type": "stream",
     "text": [
      "              precision    recall  f1-score   support\n",
      "\n",
      "    Negative       0.12      0.41      0.19       172\n",
      "     Neutral       0.40      0.34      0.37       786\n",
      "    Positive       0.56      0.40      0.46      1042\n",
      "\n",
      "    accuracy                           0.38      2000\n",
      "   macro avg       0.36      0.38      0.34      2000\n",
      "weighted avg       0.46      0.38      0.40      2000\n",
      "\n"
     ]
    }
   ],
   "source": [
    "print(classification_report(y_test, final_res_openAI, \n",
    "                          target_names=['Negative', 'Neutral', 'Positive']))"
   ]
  }
 ],
 "metadata": {
  "kernelspec": {
   "display_name": "Python 3",
   "language": "python",
   "name": "python3"
  },
  "language_info": {
   "codemirror_mode": {
    "name": "ipython",
    "version": 3
   },
   "file_extension": ".py",
   "mimetype": "text/x-python",
   "name": "python",
   "nbconvert_exporter": "python",
   "pygments_lexer": "ipython3",
   "version": "3.11.5"
  }
 },
 "nbformat": 4,
 "nbformat_minor": 2
}
