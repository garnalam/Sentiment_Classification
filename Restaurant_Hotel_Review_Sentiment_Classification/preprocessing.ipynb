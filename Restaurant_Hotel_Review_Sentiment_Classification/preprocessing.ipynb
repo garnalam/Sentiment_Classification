{
 "cells": [
  {
   "cell_type": "code",
   "execution_count": 1,
   "metadata": {},
   "outputs": [],
   "source": [
    "import pandas as pd\n",
    "import re\n",
    "import underthesea\n",
    "from string import punctuation\n"
   ]
  },
  {
   "cell_type": "code",
   "execution_count": 2,
   "metadata": {},
   "outputs": [],
   "source": [
    "def read_data(path):\n",
    "    doc = open(path, encoding='utf-8').read().split('\\n')\n",
    "    text = []\n",
    "    label = []\n",
    "    i = 1\n",
    "    while i < len(doc):\n",
    "        text.append(doc[i])\n",
    "        label.append(doc[i + 1])\n",
    "        i += 4\n",
    "\n",
    "    df = pd.DataFrame({'review': text, 'sentiment': label})\n",
    "    return df\n"
   ]
  },
  {
   "cell_type": "code",
   "execution_count": 3,
   "metadata": {},
   "outputs": [],
   "source": [
    "df = read_data('Dataset_For_Work\\\\1-VLSP2018-SA-Hotel-train (7-3-2018).txt')"
   ]
  },
  {
   "cell_type": "code",
   "execution_count": 4,
   "metadata": {},
   "outputs": [],
   "source": [
    "def adding_label(data):\n",
    "    label = data[\"sentiment\"].values\n",
    "\n",
    "    clean_label = []\n",
    "\n",
    "    for i in range(len(label)):\n",
    "        sample = label[i].split(\",\")\n",
    "        for j in range(len(sample)):\n",
    "            sample[j] = re.sub(\"[{}]\", \"\", sample[j].strip())\n",
    "        clean_label.append(sample)\n",
    "\n",
    "    y = []\n",
    "    for i in range(len(clean_label)):\n",
    "        row = clean_label[i]\n",
    "\n",
    "        j = 0\n",
    "        while j < len(row):\n",
    "            y.append([i + 1 , row[j], row[j + 1]])\n",
    "            j += 2\n",
    "    return y"
   ]
  },
  {
   "cell_type": "code",
   "execution_count": 7,
   "metadata": {},
   "outputs": [],
   "source": [
    "all_classes = set([i[1] for i in adding_label(df)])"
   ]
  },
  {
   "cell_type": "code",
   "execution_count": 9,
   "metadata": {},
   "outputs": [
    {
     "data": {
      "text/plain": [
       "{'FACILITIES#CLEANLINESS',\n",
       " 'FACILITIES#COMFORT',\n",
       " 'FACILITIES#DESIGN&FEATURES',\n",
       " 'FACILITIES#GENERAL',\n",
       " 'FACILITIES#MISCELLANEOUS',\n",
       " 'FACILITIES#PRICES',\n",
       " 'FACILITIES#QUALITY',\n",
       " 'FOOD&DRINKS#MISCELLANEOUS',\n",
       " 'FOOD&DRINKS#PRICES',\n",
       " 'FOOD&DRINKS#QUALITY',\n",
       " 'FOOD&DRINKS#STYLE&OPTIONS',\n",
       " 'HOTEL#CLEANLINESS',\n",
       " 'HOTEL#COMFORT',\n",
       " 'HOTEL#DESIGN&FEATURES',\n",
       " 'HOTEL#GENERAL',\n",
       " 'HOTEL#MISCELLANEOUS',\n",
       " 'HOTEL#PRICES',\n",
       " 'HOTEL#QUALITY',\n",
       " 'LOCATION#GENERAL',\n",
       " 'ROOMS#CLEANLINESS',\n",
       " 'ROOMS#COMFORT',\n",
       " 'ROOMS#DESIGN&FEATURES',\n",
       " 'ROOMS#GENERAL',\n",
       " 'ROOMS#MISCELLANEOUS',\n",
       " 'ROOMS#PRICES',\n",
       " 'ROOMS#QUALITY',\n",
       " 'ROOM_AMENITIES#CLEANLINESS',\n",
       " 'ROOM_AMENITIES#COMFORT',\n",
       " 'ROOM_AMENITIES#DESIGN&FEATURES',\n",
       " 'ROOM_AMENITIES#GENERAL',\n",
       " 'ROOM_AMENITIES#MISCELLANEOUS',\n",
       " 'ROOM_AMENITIES#QUALITY',\n",
       " 'SERVICE#GENERAL'}"
      ]
     },
     "execution_count": 9,
     "metadata": {},
     "output_type": "execute_result"
    }
   ],
   "source": [
    "all_classes"
   ]
  }
 ],
 "metadata": {
  "kernelspec": {
   "display_name": "Python 3",
   "language": "python",
   "name": "python3"
  },
  "language_info": {
   "codemirror_mode": {
    "name": "ipython",
    "version": 3
   },
   "file_extension": ".py",
   "mimetype": "text/x-python",
   "name": "python",
   "nbconvert_exporter": "python",
   "pygments_lexer": "ipython3",
   "version": "3.11.5"
  }
 },
 "nbformat": 4,
 "nbformat_minor": 2
}
