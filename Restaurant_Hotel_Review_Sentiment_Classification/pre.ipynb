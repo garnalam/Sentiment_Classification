{
 "cells": [
  {
   "cell_type": "code",
   "execution_count": 1,
   "metadata": {},
   "outputs": [],
   "source": [
    "import pandas as pd\n",
    "import re\n",
    "import underthesea\n",
    "from string import punctuation\n",
    "import warnings\n",
    "import numpy as np\n",
    "punctuation = punctuation + '‘’“”'\n",
    "vietnamese_words = 'aAàÀảẢãÃáÁạẠăĂằẰẳẲẵẴắẮặẶâÂầẦẩẨẫẪấẤậẬbBcCdDđĐeEèÈẻẺẽẼéÉẹẸêÊềỀểỂễỄếẾệỆfFgGhHiIìÌỉỈĩĨíÍịỊjJkKlLmMnNoOòÒỏỎõÕóÓọỌôÔồỒổỔỗỖốỐộỘơƠờỜởỞỡỠớỚợỢpPqQrRsStTuUùÙủỦũŨúÚụỤưƯừỪửỬữỮứỨựỰvVwWxXyYỳỲỷỶỹỸýÝỵỴzZ'\n",
    "warnings.filterwarnings('ignore')"
   ]
  },
  {
   "cell_type": "code",
   "execution_count": 2,
   "metadata": {},
   "outputs": [],
   "source": [
    "def read_data(path):\n",
    "    doc = open(path, encoding='utf-8').read().split('\\n')\n",
    "    text = []\n",
    "    label = []\n",
    "    i = 1\n",
    "    while i < len(doc):\n",
    "        text.append(doc[i])\n",
    "        label.append(doc[i + 1])\n",
    "        i += 4\n",
    "\n",
    "    df = pd.DataFrame({'review': text, 'sentiment': label})\n",
    "    return df\n"
   ]
  },
  {
   "cell_type": "code",
   "execution_count": 3,
   "metadata": {},
   "outputs": [],
   "source": [
    "def adding_label(data):\n",
    "    label = data[\"sentiment\"].values\n",
    "\n",
    "    clean_label = []\n",
    "\n",
    "    for i in range(len(label)):\n",
    "        sample = label[i].split(\",\")\n",
    "        for j in range(len(sample)):\n",
    "            sample[j] = re.sub(\"[{}]\", \"\", sample[j].strip())\n",
    "        clean_label.append(sample)\n",
    "\n",
    "    y = []\n",
    "    for i in range(len(clean_label)):\n",
    "        row = clean_label[i]\n",
    "\n",
    "        j = 0\n",
    "        while j < len(row):\n",
    "            if(row[j+1] == 'positive'):\n",
    "                y.append([i + 1 , row[j], 1])\n",
    "            elif(row[j+1] == 'negative'):\n",
    "                y.append([i + 1 , row[j], -1])\n",
    "            else:\n",
    "                y.append([i + 1 , row[j], 0])\n",
    "            j += 2\n",
    "    return y"
   ]
  },
  {
   "cell_type": "code",
   "execution_count": 16,
   "metadata": {},
   "outputs": [],
   "source": [
    "def data_with_sparse_matrix(df):\n",
    "    all_classes = [\"Text\"]\n",
    "    all_classes += list(set([i[1] for i in adding_label(df)]))\n",
    "    y = adding_label(df)\n",
    "    new_dat = pd.DataFrame(columns=all_classes)\n",
    "    all_classes.remove(\"Text\")\n",
    "    new_dat.Text = df.review\n",
    "    new_dat[all_classes] = 0\n",
    "    sparse_matrix = np.zeros((len(df), len(all_classes)))\n",
    "    dict_class = {}\n",
    "    index = 0\n",
    "    for i in all_classes:\n",
    "        dict_class[i] = index\n",
    "        index += 1\n",
    "    sparse_matrix = list(sparse_matrix.astype(int))\n",
    "    for i in y:\n",
    "        sparse_matrix[i[0] - 1][dict_class[i[1]]] = i[2]\n",
    "    for i in y:\n",
    "        new_dat[i[1]][i[0] - 1] = i[2]\n",
    "    final_dat = pd.DataFrame({\"Text\": new_dat.Text, \"Label\": sparse_matrix})\n",
    "\n",
    "    data_with_all_classes = new_dat\n",
    "    data_with_sparse = final_dat\n",
    "    for i in range(len(final_dat.Label)):\n",
    "        s = np.sum(final_dat.Label[i])\n",
    "        if(s>1):\n",
    "            final_dat.Label[i] = 1\n",
    "        elif(s<-1):\n",
    "            final_dat.Label[i] = -1\n",
    "        else:\n",
    "            final_dat.Label[i] = 0\n",
    "    return data_with_sparse, data_with_all_classes"
   ]
  },
  {
   "cell_type": "code",
   "execution_count": 5,
   "metadata": {},
   "outputs": [],
   "source": [
    "df = read_data('Dataset_For_Work\\\\1-VLSP2018-SA-Hotel-train (7-3-2018).txt')"
   ]
  },
  {
   "cell_type": "code",
   "execution_count": 6,
   "metadata": {},
   "outputs": [
    {
     "data": {
      "text/html": [
       "<div>\n",
       "<style scoped>\n",
       "    .dataframe tbody tr th:only-of-type {\n",
       "        vertical-align: middle;\n",
       "    }\n",
       "\n",
       "    .dataframe tbody tr th {\n",
       "        vertical-align: top;\n",
       "    }\n",
       "\n",
       "    .dataframe thead th {\n",
       "        text-align: right;\n",
       "    }\n",
       "</style>\n",
       "<table border=\"1\" class=\"dataframe\">\n",
       "  <thead>\n",
       "    <tr style=\"text-align: right;\">\n",
       "      <th></th>\n",
       "      <th>review</th>\n",
       "      <th>sentiment</th>\n",
       "    </tr>\n",
       "  </thead>\n",
       "  <tbody>\n",
       "    <tr>\n",
       "      <th>0</th>\n",
       "      <td>Rộng rãi KS mới nhưng rất vắng. Các dịch vụ ch...</td>\n",
       "      <td>{HOTEL#DESIGN&amp;FEATURES, positive}, {HOTEL#GENE...</td>\n",
       "    </tr>\n",
       "    <tr>\n",
       "      <th>1</th>\n",
       "      <td>Địa điểm thuận tiện, trong vòng bán kính 1,5km...</td>\n",
       "      <td>{LOCATION#GENERAL, positive}</td>\n",
       "    </tr>\n",
       "    <tr>\n",
       "      <th>2</th>\n",
       "      <td>Phục vụ, view đẹp, vị trí</td>\n",
       "      <td>{SERVICE#GENERAL, positive}, {HOTEL#GENERAL, p...</td>\n",
       "    </tr>\n",
       "    <tr>\n",
       "      <th>3</th>\n",
       "      <td>thuận tiện , sạch sẽ , vui vẻ hài lòng</td>\n",
       "      <td>{HOTEL#COMFORT, positive}, {HOTEL#CLEANLINESS,...</td>\n",
       "    </tr>\n",
       "    <tr>\n",
       "      <th>4</th>\n",
       "      <td>Vị trí đẹp; Có quán bar view đẹp; Nhân viên th...</td>\n",
       "      <td>{LOCATION#GENERAL, positive}, {FACILITIES#GENE...</td>\n",
       "    </tr>\n",
       "    <tr>\n",
       "      <th>5</th>\n",
       "      <td>- Co view huong Ho tay- sach se-nhan vien tan ...</td>\n",
       "      <td>{HOTEL#GENERAL, positive}, {HOTEL#CLEANLINESS,...</td>\n",
       "    </tr>\n",
       "    <tr>\n",
       "      <th>6</th>\n",
       "      <td>Phòng ốc sạch, giường thoải mái, nhân viên thâ...</td>\n",
       "      <td>{ROOMS#CLEANLINESS, positive}, {ROOM_AMENITIES...</td>\n",
       "    </tr>\n",
       "    <tr>\n",
       "      <th>7</th>\n",
       "      <td>gần Hồ Tây, view nhìn ra hồ lãng mạn, đi bộ dọ...</td>\n",
       "      <td>{LOCATION#GENERAL, positive}, {HOTEL#GENERAL, ...</td>\n",
       "    </tr>\n",
       "    <tr>\n",
       "      <th>8</th>\n",
       "      <td>Hình thức không thể quyết định nội dung.H&amp;atil...</td>\n",
       "      <td>{HOTEL#COMFORT, positive}</td>\n",
       "    </tr>\n",
       "    <tr>\n",
       "      <th>9</th>\n",
       "      <td>Tôi ở đây lần này là lần thứ 4. Khi nhận phòng...</td>\n",
       "      <td>{ROOMS#CLEANLINESS, negative}, {ROOM_AMENITIES...</td>\n",
       "    </tr>\n",
       "  </tbody>\n",
       "</table>\n",
       "</div>"
      ],
      "text/plain": [
       "                                              review  \\\n",
       "0  Rộng rãi KS mới nhưng rất vắng. Các dịch vụ ch...   \n",
       "1  Địa điểm thuận tiện, trong vòng bán kính 1,5km...   \n",
       "2                          Phục vụ, view đẹp, vị trí   \n",
       "3             thuận tiện , sạch sẽ , vui vẻ hài lòng   \n",
       "4  Vị trí đẹp; Có quán bar view đẹp; Nhân viên th...   \n",
       "5  - Co view huong Ho tay- sach se-nhan vien tan ...   \n",
       "6  Phòng ốc sạch, giường thoải mái, nhân viên thâ...   \n",
       "7  gần Hồ Tây, view nhìn ra hồ lãng mạn, đi bộ dọ...   \n",
       "8  Hình thức không thể quyết định nội dung.H&atil...   \n",
       "9  Tôi ở đây lần này là lần thứ 4. Khi nhận phòng...   \n",
       "\n",
       "                                           sentiment  \n",
       "0  {HOTEL#DESIGN&FEATURES, positive}, {HOTEL#GENE...  \n",
       "1                       {LOCATION#GENERAL, positive}  \n",
       "2  {SERVICE#GENERAL, positive}, {HOTEL#GENERAL, p...  \n",
       "3  {HOTEL#COMFORT, positive}, {HOTEL#CLEANLINESS,...  \n",
       "4  {LOCATION#GENERAL, positive}, {FACILITIES#GENE...  \n",
       "5  {HOTEL#GENERAL, positive}, {HOTEL#CLEANLINESS,...  \n",
       "6  {ROOMS#CLEANLINESS, positive}, {ROOM_AMENITIES...  \n",
       "7  {LOCATION#GENERAL, positive}, {HOTEL#GENERAL, ...  \n",
       "8                          {HOTEL#COMFORT, positive}  \n",
       "9  {ROOMS#CLEANLINESS, negative}, {ROOM_AMENITIES...  "
      ]
     },
     "execution_count": 6,
     "metadata": {},
     "output_type": "execute_result"
    }
   ],
   "source": [
    "df.head(10)"
   ]
  },
  {
   "cell_type": "code",
   "execution_count": 7,
   "metadata": {},
   "outputs": [],
   "source": [
    "all_classes = list(set([i[1] for i in adding_label(df)]))\n",
    "y = adding_label(df)"
   ]
  },
  {
   "cell_type": "code",
   "execution_count": 8,
   "metadata": {},
   "outputs": [
    {
     "data": {
      "text/plain": [
       "33"
      ]
     },
     "execution_count": 8,
     "metadata": {},
     "output_type": "execute_result"
    }
   ],
   "source": [
    "len(all_classes)"
   ]
  },
  {
   "cell_type": "code",
   "execution_count": 8,
   "metadata": {},
   "outputs": [
    {
     "data": {
      "text/plain": [
       "['FACILITIES#COMFORT',\n",
       " 'FOOD&DRINKS#PRICES',\n",
       " 'FACILITIES#DESIGN&FEATURES',\n",
       " 'ROOM_AMENITIES#GENERAL',\n",
       " 'HOTEL#COMFORT',\n",
       " 'SERVICE#GENERAL',\n",
       " 'FACILITIES#PRICES',\n",
       " 'ROOM_AMENITIES#COMFORT',\n",
       " 'ROOM_AMENITIES#MISCELLANEOUS',\n",
       " 'ROOM_AMENITIES#CLEANLINESS']"
      ]
     },
     "execution_count": 8,
     "metadata": {},
     "output_type": "execute_result"
    }
   ],
   "source": [
    "all_classes[:10]"
   ]
  },
  {
   "cell_type": "code",
   "execution_count": 11,
   "metadata": {},
   "outputs": [
    {
     "data": {
      "text/plain": [
       "[[1, 'HOTEL#DESIGN&FEATURES', 1],\n",
       " [1, 'HOTEL#GENERAL', -1],\n",
       " [2, 'LOCATION#GENERAL', 1],\n",
       " [3, 'SERVICE#GENERAL', 1],\n",
       " [3, 'HOTEL#GENERAL', 1],\n",
       " [3, 'LOCATION#GENERAL', 1],\n",
       " [4, 'HOTEL#COMFORT', 1],\n",
       " [4, 'HOTEL#CLEANLINESS', 1],\n",
       " [4, 'SERVICE#GENERAL', 1],\n",
       " [5, 'LOCATION#GENERAL', 1]]"
      ]
     },
     "execution_count": 11,
     "metadata": {},
     "output_type": "execute_result"
    }
   ],
   "source": [
    "y[:10]"
   ]
  },
  {
   "cell_type": "code",
   "execution_count": 40,
   "metadata": {},
   "outputs": [],
   "source": [
    "final_dat,new_dat = data_with_sparse_matrix(df)"
   ]
  },
  {
   "cell_type": "code",
   "execution_count": 18,
   "metadata": {},
   "outputs": [
    {
     "data": {
      "text/html": [
       "<div>\n",
       "<style scoped>\n",
       "    .dataframe tbody tr th:only-of-type {\n",
       "        vertical-align: middle;\n",
       "    }\n",
       "\n",
       "    .dataframe tbody tr th {\n",
       "        vertical-align: top;\n",
       "    }\n",
       "\n",
       "    .dataframe thead th {\n",
       "        text-align: right;\n",
       "    }\n",
       "</style>\n",
       "<table border=\"1\" class=\"dataframe\">\n",
       "  <thead>\n",
       "    <tr style=\"text-align: right;\">\n",
       "      <th></th>\n",
       "      <th>Text</th>\n",
       "      <th>Label</th>\n",
       "    </tr>\n",
       "  </thead>\n",
       "  <tbody>\n",
       "    <tr>\n",
       "      <th>0</th>\n",
       "      <td>Rộng rãi KS mới nhưng rất vắng. Các dịch vụ ch...</td>\n",
       "      <td>0</td>\n",
       "    </tr>\n",
       "    <tr>\n",
       "      <th>1</th>\n",
       "      <td>Địa điểm thuận tiện, trong vòng bán kính 1,5km...</td>\n",
       "      <td>0</td>\n",
       "    </tr>\n",
       "    <tr>\n",
       "      <th>2</th>\n",
       "      <td>Phục vụ, view đẹp, vị trí</td>\n",
       "      <td>1</td>\n",
       "    </tr>\n",
       "    <tr>\n",
       "      <th>3</th>\n",
       "      <td>thuận tiện , sạch sẽ , vui vẻ hài lòng</td>\n",
       "      <td>1</td>\n",
       "    </tr>\n",
       "    <tr>\n",
       "      <th>4</th>\n",
       "      <td>Vị trí đẹp; Có quán bar view đẹp; Nhân viên th...</td>\n",
       "      <td>1</td>\n",
       "    </tr>\n",
       "  </tbody>\n",
       "</table>\n",
       "</div>"
      ],
      "text/plain": [
       "                                                Text Label\n",
       "0  Rộng rãi KS mới nhưng rất vắng. Các dịch vụ ch...     0\n",
       "1  Địa điểm thuận tiện, trong vòng bán kính 1,5km...     0\n",
       "2                          Phục vụ, view đẹp, vị trí     1\n",
       "3             thuận tiện , sạch sẽ , vui vẻ hài lòng     1\n",
       "4  Vị trí đẹp; Có quán bar view đẹp; Nhân viên th...     1"
      ]
     },
     "execution_count": 18,
     "metadata": {},
     "output_type": "execute_result"
    }
   ],
   "source": [
    "final_dat.head()"
   ]
  },
  {
   "cell_type": "code",
   "execution_count": 38,
   "metadata": {},
   "outputs": [],
   "source": [
    "def clean_text(df,option=0):\n",
    "    #Trong này đã bao gồm normalization từ vựng lẫn \n",
    "    stop_words = open('Dataset_For_Work\\\\vietnamese-stopwords.txt','r',encoding='utf-8').read().split('\\n')\n",
    "    for i in range(len(df.Text)):\n",
    "        \n",
    "        df.Text[i] = underthesea.text_normalize(df.Text[i])\n",
    "\n",
    "        if(option==1):\n",
    "            df.Text[i] = re.sub(f'[^{vietnamese_words}{punctuation}]',' ',df.Text[i]) #Việc này để loại bỏ các ký tự biểu tượng cảm xúc trong review Restaurant\n",
    "\n",
    "        df.Text[i] = underthesea.sent_tokenize(df.Text[i])\n",
    "\n",
    "    for i in range(len(df.Text)):\n",
    "        for j in range(len(df.Text[i])):\n",
    "\n",
    "            df.Text[i][j] = re.sub(f'[{punctuation}]',' ',df.Text[i][j])\n",
    "\n",
    "            for s_w in stop_words:\n",
    "                df.Text[i][j] = re.sub(f' {s_w} ',' ',df.Text[i][j])\n",
    "\n",
    "    for i in range(len(df.Text)):\n",
    "        new_text = ''\n",
    "        for j in range(len(df.Text[i])):\n",
    "            if(j==(len(df.Text[i]) - 1)):\n",
    "                new_text+=df.Text[i][j]\n",
    "            else:\n",
    "                new_text+=(df.Text[i][j] + ' ')\n",
    "        df.Text[i] = re.sub('\\s+',' ',new_text)\n",
    "\n",
    "    df.to_csv('clean_data.csv')\n",
    "    return df"
   ]
  },
  {
   "cell_type": "code",
   "execution_count": 1,
   "metadata": {},
   "outputs": [],
   "source": [
    "def process_data(data):\n",
    "    sentences = []\n",
    "    stop_words = open('Dataset_For_Work\\\\vietnamese-stopwords.txt','r',encoding='utf-8').read().split('\\n')\n",
    "    for item in data:\n",
    "        processed_item = item.lower()\n",
    "        for s_t in stop_words:\n",
    "\n",
    "            processed_item = re.sub(rf\" {s_t} \", ' ', processed_item)\n",
    "\n",
    "        processed_item = re.sub(f'[{punctuation}]',' ',processed_item)\n",
    "        processed_item = re.sub(f'\\s+',' ',processed_item)\n",
    "        temp = underthesea.sent_tokenize(processed_item)\n",
    "        sentences += temp\n",
    "\n",
    "    tokenize_data = [underthesea.word_tokenize(i) for i in sentences]\n",
    "\n",
    "    return tokenize_data, sentences"
   ]
  },
  {
   "cell_type": "code",
   "execution_count": 41,
   "metadata": {},
   "outputs": [],
   "source": [
    "clean_dat = clean_text(final_dat)"
   ]
  },
  {
   "cell_type": "code",
   "execution_count": 43,
   "metadata": {},
   "outputs": [
    {
     "data": {
      "text/html": [
       "<div>\n",
       "<style scoped>\n",
       "    .dataframe tbody tr th:only-of-type {\n",
       "        vertical-align: middle;\n",
       "    }\n",
       "\n",
       "    .dataframe tbody tr th {\n",
       "        vertical-align: top;\n",
       "    }\n",
       "\n",
       "    .dataframe thead th {\n",
       "        text-align: right;\n",
       "    }\n",
       "</style>\n",
       "<table border=\"1\" class=\"dataframe\">\n",
       "  <thead>\n",
       "    <tr style=\"text-align: right;\">\n",
       "      <th></th>\n",
       "      <th>Text</th>\n",
       "      <th>Label</th>\n",
       "    </tr>\n",
       "  </thead>\n",
       "  <tbody>\n",
       "    <tr>\n",
       "      <th>0</th>\n",
       "      <td>Rộng rãi KS vắng Các dịch vụ chất</td>\n",
       "      <td>0</td>\n",
       "    </tr>\n",
       "    <tr>\n",
       "      <th>1</th>\n",
       "      <td>Địa thuận tiện vòng kính 1 5 km quán ngon</td>\n",
       "      <td>0</td>\n",
       "    </tr>\n",
       "    <tr>\n",
       "      <th>2</th>\n",
       "      <td>Phục vụ view đẹp vị trí</td>\n",
       "      <td>1</td>\n",
       "    </tr>\n",
       "    <tr>\n",
       "      <th>3</th>\n",
       "      <td>thuận tiện sạch vui vẻ hài lòng</td>\n",
       "      <td>1</td>\n",
       "    </tr>\n",
       "    <tr>\n",
       "      <th>4</th>\n",
       "      <td>Vị trí đẹp Có quán bar view đẹp Nhân viên thân...</td>\n",
       "      <td>1</td>\n",
       "    </tr>\n",
       "  </tbody>\n",
       "</table>\n",
       "</div>"
      ],
      "text/plain": [
       "                                                Text Label\n",
       "0                 Rộng rãi KS vắng Các dịch vụ chất      0\n",
       "1          Địa thuận tiện vòng kính 1 5 km quán ngon     0\n",
       "2                            Phục vụ view đẹp vị trí     1\n",
       "3                    thuận tiện sạch vui vẻ hài lòng     1\n",
       "4  Vị trí đẹp Có quán bar view đẹp Nhân viên thân...     1"
      ]
     },
     "execution_count": 43,
     "metadata": {},
     "output_type": "execute_result"
    }
   ],
   "source": [
    "clean_dat.head()"
   ]
  },
  {
   "cell_type": "markdown",
   "metadata": {},
   "source": [
    "ĐOẠN NÀY LÀ ĐOẠN EMBEDDING"
   ]
  },
  {
   "cell_type": "code",
   "execution_count": 76,
   "metadata": {},
   "outputs": [],
   "source": [
    "from transformers import AutoModel, AutoTokenizer\n",
    "import torch"
   ]
  },
  {
   "cell_type": "code",
   "execution_count": 74,
   "metadata": {},
   "outputs": [
    {
     "name": "stderr",
     "output_type": "stream",
     "text": [
      "Some weights of RobertaModel were not initialized from the model checkpoint at vinai/phobert-base-v2 and are newly initialized: ['roberta.pooler.dense.bias', 'roberta.pooler.dense.weight']\n",
      "You should probably TRAIN this model on a down-stream task to be able to use it for predictions and inference.\n"
     ]
    }
   ],
   "source": [
    "phobert = AutoModel.from_pretrained(\"vinai/phobert-base-v2\")\n",
    "tokenizer = AutoTokenizer.from_pretrained(\"vinai/phobert-base-v2\")"
   ]
  },
  {
   "cell_type": "code",
   "execution_count": 87,
   "metadata": {},
   "outputs": [],
   "source": [
    "data = []\n",
    "label = clean_dat.Label.values"
   ]
  },
  {
   "cell_type": "code",
   "execution_count": 93,
   "metadata": {},
   "outputs": [],
   "source": [
    "text = 'Gia đình 4 3 đêm lưu trú Cửu Long Phú Quốc resort 25 12 28 12 Bởi sát 24 25 hầu sạn resort phòng Cũng may Nhơn chudu24 tư vấn resort Cửu Long'\n",
    "text = re.sub(r'[^\\w\\s]', '', text)\n",
    "    # Loại bỏ các khoảng trắng thừa\n",
    "text = ' '.join(text.split())"
   ]
  },
  {
   "cell_type": "code",
   "execution_count": 94,
   "metadata": {},
   "outputs": [
    {
     "data": {
      "text/plain": [
       "'Gia đình 4 3 đêm lưu trú Cửu Long Phú Quốc resort 25 12 28 12 Bởi sát 24 25 hầu sạn resort phòng Cũng may Nhơn chudu24 tư vấn resort Cửu Long'"
      ]
     },
     "execution_count": 94,
     "metadata": {},
     "output_type": "execute_result"
    }
   ],
   "source": [
    "text"
   ]
  },
  {
   "cell_type": "code",
   "execution_count": 79,
   "metadata": {},
   "outputs": [],
   "source": [
    "with torch.no_grad():\n",
    "    features = phobert(input_ids)"
   ]
  },
  {
   "cell_type": "code",
   "execution_count": 85,
   "metadata": {},
   "outputs": [
    {
     "data": {
      "text/plain": [
       "array([ 3.83621231e-02,  7.07031906e-01, -1.32022694e-01, -4.75826144e-01,\n",
       "       -2.49211773e-01,  4.77192551e-03, -2.56216198e-01,  2.88822591e-01,\n",
       "       -2.25086510e-01,  1.96510240e-01,  1.87013801e-02,  2.62436569e-01,\n",
       "       -6.99767470e-02,  2.05844194e-01, -5.36816239e-01, -1.59152418e-01,\n",
       "       -3.16560030e-01, -2.22560346e-01, -8.11658874e-02,  5.38349390e-01,\n",
       "       -1.25653699e-01,  5.63711114e-02, -2.05149770e-01,  2.20803887e-01,\n",
       "       -6.04585767e-01,  2.24510923e-01, -1.12946056e-01,  3.90720844e-01,\n",
       "       -3.26886356e-01, -3.81627321e-01, -1.32624730e-01, -2.67986387e-01,\n",
       "       -7.04586208e-02,  1.74219310e-01,  4.41044867e-01,  5.10359168e-01,\n",
       "        6.61538914e-03,  2.92966627e-02,  1.19026445e-01,  4.01787281e-01,\n",
       "        6.66594803e-02,  1.11806333e-01,  1.07561223e-01, -6.95640147e-02,\n",
       "        3.84218872e-01, -1.67346805e-01,  4.38435137e-01,  2.26754308e-01,\n",
       "        3.37797999e-01,  2.89732814e-01,  1.71212718e-01,  1.07670896e-01,\n",
       "       -3.14168334e-01, -4.22758311e-02, -1.71036229e-01,  2.28870332e-01,\n",
       "       -3.37716565e-02,  4.29051608e-01, -3.01336616e-01,  2.15551943e-01,\n",
       "        3.02603811e-01,  6.66972339e-01,  1.95451334e-01,  2.57716447e-01,\n",
       "       -2.37781689e-01, -2.43960023e-02, -1.19163468e-01, -3.78420353e-01,\n",
       "        2.34994173e-01,  4.93767969e-02,  2.26321205e-01,  2.96112180e-01,\n",
       "       -6.69995770e-02, -1.98775306e-02,  1.98300913e-01, -1.44019589e-01,\n",
       "        1.07164636e-01, -2.23189622e-01,  1.00268513e-01,  1.05720259e-01,\n",
       "       -2.19083745e-02, -2.38797456e-01,  4.32365507e-01,  9.53167826e-02,\n",
       "       -2.23578736e-01,  2.54022211e-01, -2.48924673e-01, -1.58614486e-01,\n",
       "       -7.86710680e-02,  4.52450842e-01,  3.78184646e-01,  3.59520912e-01,\n",
       "        9.65207964e-02, -1.30858064e-01,  2.74535924e-01, -5.57753183e-02,\n",
       "        2.23811731e-01, -3.35352004e-01,  8.40009749e-03, -1.54374868e-01,\n",
       "        4.80287001e-02,  1.80373996e-01,  3.79526556e-01, -1.17759220e-02,\n",
       "        4.35071215e-02, -1.78381503e-02,  1.51375249e-01,  5.57027757e-04,\n",
       "        6.76883459e-02,  3.34671855e-01,  1.27938062e-01,  5.59149265e-01,\n",
       "        1.33397222e-01, -7.11045563e-02, -1.84438899e-01,  3.02305758e-01,\n",
       "        2.81506106e-02, -3.84310447e-02,  2.75931031e-01, -2.48138718e-02,\n",
       "       -3.78834546e-01, -1.44017354e-01,  1.11932531e-01, -2.88768560e-01,\n",
       "        2.35459521e-01,  2.87572831e-01,  6.05261549e-02, -5.06921932e-02,\n",
       "        2.42202550e-01,  2.50975303e-02, -3.05206329e-01, -1.94614664e-01,\n",
       "        1.12793408e-02,  2.59806901e-01, -7.92706087e-02,  3.14181477e-01,\n",
       "        6.38574362e-04, -2.30455548e-02, -7.39685297e-02, -1.61548689e-01,\n",
       "        1.61359400e-01,  2.36484855e-02, -3.29245418e-01,  2.40542904e-01,\n",
       "       -2.09162667e-01, -2.40786478e-01, -8.56292322e-02,  1.08204044e-01,\n",
       "       -1.05745547e-01,  2.73051828e-01, -6.24961928e-02,  2.02235430e-01,\n",
       "        2.69258589e-01,  3.64911497e-01, -4.71871316e-01, -3.62374961e-01,\n",
       "       -6.48571700e-02,  1.48643196e-01,  6.96068108e-01,  7.71961585e-02,\n",
       "       -5.57609439e-01,  1.72672749e-01, -5.79665780e-01, -1.79698393e-02,\n",
       "       -8.18136632e-02,  2.54721135e-01,  1.84427248e-03, -2.21583620e-03,\n",
       "        9.31255445e-02,  9.01337042e-02, -1.54962406e-01, -1.09665662e-01,\n",
       "        4.12407637e-01,  1.34693552e-02, -1.75098181e-02, -1.70443039e-02,\n",
       "        1.89383090e-01, -4.84453514e-02, -1.63212925e-01,  1.35893822e-01,\n",
       "       -3.91548455e-01,  3.64824653e-01,  3.55140716e-02, -3.73057306e-01,\n",
       "       -1.45350903e-01, -2.97464728e-02, -2.76117623e-01,  1.70501128e-01,\n",
       "       -9.21637267e-02, -1.18565768e-01,  1.36013284e-01, -1.44522846e-01,\n",
       "        7.60723650e-02, -6.37674332e-02,  2.05653548e-01,  6.07605040e-01,\n",
       "        5.88802248e-02,  5.67683101e-01,  1.54842570e-01,  2.23017797e-01,\n",
       "       -1.30047292e-01, -2.62668937e-01,  5.01109183e-01, -4.01242465e-01,\n",
       "       -4.96871859e-01,  2.67974325e-02,  5.88079542e-02,  1.95930541e-01,\n",
       "       -6.37533590e-02,  1.18241593e-01, -1.65421814e-01, -5.84667698e-02,\n",
       "        2.74762630e-01, -3.84516299e-01, -6.18598647e-02,  2.85198182e-01,\n",
       "       -3.53769094e-01, -1.10141665e-01,  2.60716617e-01, -1.06386662e-01,\n",
       "        3.36013228e-01,  1.10582247e-01,  8.02345201e-02,  2.99487084e-01,\n",
       "        1.40852883e-01, -1.51445180e-01,  2.03811929e-01, -3.90266210e-01,\n",
       "       -6.34682626e-02, -1.85969085e-01,  1.87203422e-01,  1.62218884e-02,\n",
       "        2.08716318e-01,  1.58515066e-01,  3.13345313e-01, -1.65161490e-01,\n",
       "       -5.75012267e-02, -5.69726467e-01, -3.46827835e-01,  1.42346382e-01,\n",
       "        1.16501361e-01,  4.40263450e-01, -8.77799839e-02, -7.84131233e-04,\n",
       "        1.99164405e-01,  5.11687577e-01, -1.52675733e-02,  3.23208660e-01,\n",
       "       -3.60651225e-01,  6.13252185e-02, -1.30748495e-01,  2.20659152e-01,\n",
       "       -8.28884393e-02, -1.78396106e-01, -2.18089640e-01, -1.06025413e-02,\n",
       "        4.58025336e-01,  2.79978544e-01, -6.54782355e-02,  1.10899888e-01,\n",
       "        7.89184421e-02, -3.50872695e-01,  5.53804524e-02, -2.15187699e-01,\n",
       "        3.61990392e-01, -7.63401389e-02,  8.44642296e-02,  6.57198727e-02,\n",
       "       -3.59665751e-01,  4.09513235e-01, -1.12312317e-01,  1.16933264e-01,\n",
       "       -2.00219214e-01,  1.99745148e-01,  1.65995687e-01, -2.40437463e-01,\n",
       "        1.60053700e-01,  6.87995106e-02,  1.75899714e-01, -2.01019436e-01,\n",
       "       -4.46875393e-02,  3.61323178e-01, -8.97574574e-02,  1.80706289e-02,\n",
       "        7.00283051e-01,  8.23965669e-03,  6.01015165e-02, -1.27011500e-02,\n",
       "       -4.41599712e-02,  7.30154067e-02, -2.20440567e-01,  3.49027693e-01,\n",
       "       -2.13096999e-02, -3.19140792e-01,  8.90492350e-02,  3.61248434e-01,\n",
       "        3.53453040e-01,  1.90757856e-01, -1.27455331e-02,  2.22091079e-02,\n",
       "       -1.48744777e-01,  2.15047553e-01, -7.51984492e-03,  4.23550867e-02,\n",
       "       -3.02531123e-02, -1.53837651e-02,  1.53734669e-01, -3.54217738e-01,\n",
       "        4.84152287e-02, -6.11934103e-02, -3.13684076e-01, -2.01796219e-01,\n",
       "        7.73492932e-01, -3.31616938e-01, -9.06402707e-01,  3.12420875e-01,\n",
       "       -2.67647833e-01, -3.76993477e-01, -3.34130108e-01, -2.05929756e-01,\n",
       "        3.36865127e-01,  1.21997096e-01,  7.75410011e-02, -3.38143140e-01,\n",
       "        4.17744696e-01,  3.36799651e-01,  1.60016358e-01,  6.21774077e-01,\n",
       "       -2.76431590e-01, -3.44415784e-01, -5.10567576e-02,  1.80803612e-01,\n",
       "       -2.49548070e-02, -2.79061705e-01,  3.04172784e-01,  1.37241945e-01,\n",
       "        1.50979757e-01,  3.78617465e-01,  1.89065897e+00, -1.55639231e-01,\n",
       "       -1.10957846e-01,  2.07817093e-01,  6.08610153e-01,  1.54093355e-01,\n",
       "        2.86745608e-01,  1.12562448e-01,  3.28398705e-01,  5.36163561e-02,\n",
       "        1.30509660e-01, -4.23466235e-01,  3.04086119e-01, -4.49317656e-02,\n",
       "       -2.04530627e-01, -1.09461747e-01, -3.99480164e-01,  3.48362952e-01,\n",
       "       -5.92703998e-01,  4.94833365e-02,  3.64740789e-02,  2.87070274e-01,\n",
       "        1.76375210e-01,  2.04647452e-01, -6.88230395e-02, -8.79935250e-02,\n",
       "        1.95050433e-01, -3.03160816e-01, -1.66968480e-01,  8.47899616e-01,\n",
       "       -4.03092176e-01, -2.24622756e-01, -3.44481140e-01,  2.20421851e-01,\n",
       "       -1.11265823e-01, -1.88714147e-01,  1.81818381e-01, -2.59395003e-01,\n",
       "        1.41966730e-01, -1.10269245e-02,  2.82694280e-01,  3.68404761e-02,\n",
       "       -9.20944810e-02,  6.15148991e-02,  1.42524838e-01,  6.87495619e-02,\n",
       "        1.00976683e-01, -1.71180829e-01,  1.71191424e-01,  3.81741002e-02,\n",
       "        2.54332662e-01,  1.78880543e-01, -2.70758390e-01, -4.57369298e-01,\n",
       "       -6.72972649e-02, -9.94768366e-02,  1.06689684e-01, -9.12700370e-02,\n",
       "        3.83802593e-01,  1.82445332e-01,  1.25970915e-01,  3.19122642e-01,\n",
       "       -4.05323088e-01, -2.01104671e-01, -5.27065933e-01, -6.90919399e-01,\n",
       "        2.86831558e-01, -4.43412334e-01,  6.74965262e-01, -3.40617895e-01,\n",
       "       -8.15168619e-02,  2.04193607e-01, -2.93090075e-01, -2.86664844e-01,\n",
       "        9.70991477e-02,  3.74333143e-01, -9.38540325e-03, -5.60124874e-01,\n",
       "       -7.68028855e-01, -1.76933438e-01, -1.67278796e-01,  4.61874083e-02,\n",
       "        2.92945504e-01, -6.05835974e-01,  8.16626400e-02,  6.29931986e-02,\n",
       "        3.59577984e-02,  2.87323475e-01, -1.23546068e-02,  1.63888007e-01,\n",
       "       -1.76254183e-01, -1.49780676e-01,  2.07020581e-01, -8.01420957e-02,\n",
       "        2.53500253e-01,  3.55214208e-01,  2.04628259e-01,  3.60965803e-02,\n",
       "       -2.14669913e-01, -7.03923777e-02,  1.18559346e-01,  1.39774024e-01,\n",
       "        3.63303483e-01,  2.73904353e-01,  8.57831687e-02,  1.53170466e-01,\n",
       "       -3.17909569e-01, -6.66741654e-02, -3.18582654e-02,  1.55111194e-01,\n",
       "        7.04986304e-02, -3.72173786e-02,  1.30476952e-02,  7.25731552e-02,\n",
       "       -2.41390511e-01,  1.57048479e-01,  2.27824263e-02,  2.22349614e-01,\n",
       "       -1.50828168e-01, -1.55463189e-01, -1.03764758e-02, -3.85128468e-01,\n",
       "        8.51344764e-02,  2.81696320e-01,  2.20395803e-01, -1.41747385e-01,\n",
       "        4.12695616e-01,  1.45348385e-01, -4.71181497e-02, -2.02470213e-01,\n",
       "        1.86492261e-02,  1.81094170e-01, -2.01523647e-01,  1.93810970e-01,\n",
       "        7.90927261e-02,  9.80177745e-02,  3.36904675e-02, -6.89526200e-02,\n",
       "        3.56045932e-01,  6.07062541e-02, -3.45935598e-02,  4.17120069e-01,\n",
       "        2.43912429e-01,  3.39138508e-01,  2.56511748e-01, -4.32871968e-01,\n",
       "        2.50531584e-01, -1.03156641e-01, -1.48476005e-01, -3.85280214e-02,\n",
       "        1.35773152e-01,  1.36126325e-01,  4.24538106e-02, -1.09566711e-01,\n",
       "        2.44968414e-01,  5.00155799e-02,  2.54361123e-01, -8.95358175e-02,\n",
       "       -2.86596000e-01, -1.02176666e-01,  1.21639445e-01,  2.55402863e-01,\n",
       "        4.04135287e-02, -6.39843568e-02, -7.00686350e-02,  1.33045197e-01,\n",
       "        2.72525251e-01,  2.36586124e-01,  3.82333249e-01, -1.03739530e-01,\n",
       "        1.20517343e-01,  2.65247643e-01,  3.42855565e-02, -2.27534294e-01,\n",
       "        1.86674982e-01,  1.69898570e-03,  1.26052603e-01, -2.27482244e-02,\n",
       "        3.55386138e-01,  3.54026556e-01,  2.00118989e-01, -7.19779879e-02,\n",
       "       -1.20270312e-01,  1.89516872e-01, -2.09973350e-01,  1.40087187e-01,\n",
       "       -2.09382325e-01, -1.26298815e-01,  4.33142344e-03, -7.30339363e-02,\n",
       "       -3.02096963e-01,  1.69012964e-01, -8.38562310e-01,  5.29536724e-01,\n",
       "        7.43407130e-01,  4.21222866e-01,  1.56113729e-01, -8.34442675e-02,\n",
       "        2.20735937e-01, -2.60145247e-01,  4.06636819e-02,  1.88178807e-01,\n",
       "        1.64769173e-01, -2.89267689e-01, -2.40609154e-01, -3.92501444e-01,\n",
       "       -2.47221425e-01,  1.53104225e-02,  5.63225150e-02,  1.13677108e+00,\n",
       "        2.33821616e-01, -6.79115713e-01, -3.63852978e-02, -3.72190297e-01,\n",
       "        3.26099917e-02,  3.58643010e-03, -5.47464937e-03, -2.73174137e-01,\n",
       "        2.64478326e-01,  5.66637218e-02, -7.87163153e-02, -5.50815165e-01,\n",
       "        5.18109687e-02, -1.62630394e-01, -2.14308575e-01,  4.05597270e-01,\n",
       "        2.90985405e-01, -3.37136090e-01, -5.69275618e-02,  3.99710387e-01,\n",
       "       -7.22554699e-02,  2.28551492e-01,  1.17690668e-01,  1.81636646e-01,\n",
       "        5.96365035e-02,  1.27390087e-01,  1.80820718e-01,  1.42920509e-01,\n",
       "        3.61783206e-02,  2.00543538e-01,  2.86718979e-02, -3.78718257e-01,\n",
       "        9.74424034e-02,  1.73374578e-01, -5.80520108e-02,  3.10747653e-01,\n",
       "       -4.01054472e-02,  3.56138721e-02, -6.46250620e-02,  3.52508336e-01,\n",
       "       -1.26520455e-01,  5.41819781e-02, -9.75774974e-02,  5.29500902e-01,\n",
       "       -1.43757552e-01, -2.98668534e-01,  3.62716794e-01, -2.19898477e-01,\n",
       "        1.90907180e-01,  2.64044225e-01,  9.97699872e-02, -1.90748945e-02,\n",
       "        2.34881081e-02,  6.63327351e-02, -5.18753529e-02, -1.89370215e-01,\n",
       "        1.99871019e-01,  1.26859874e-01, -2.24810153e-01,  3.07176173e-01,\n",
       "        5.46608210e-01, -1.14402547e-01,  2.53027201e-01,  1.90464109e-01,\n",
       "        4.91784751e-01, -7.73484930e-02,  6.51532784e-02,  4.74156469e-01,\n",
       "        7.21068308e-02, -3.42409581e-01, -1.10652179e-01, -4.40248400e-01,\n",
       "       -3.50751758e-01,  3.48789364e-01,  5.76957464e-02,  5.94409928e-02,\n",
       "       -1.16009265e-01,  7.26189092e-02, -1.61947593e-01, -1.12001628e-01,\n",
       "        3.00749660e-01,  1.85901836e-01, -1.81337520e-02,  2.67399866e-02,\n",
       "       -3.25175494e-01,  1.80025861e-01,  4.32144701e-01, -2.27393225e-01,\n",
       "        8.90410319e-02,  2.14780197e-01, -4.61470857e-02,  9.10616666e-02,\n",
       "       -9.48375612e-02,  1.08074099e-02, -5.37026674e-02, -6.63269237e-02,\n",
       "       -1.12032510e-01,  3.33180249e-01,  7.12366849e-02, -2.01679736e-01,\n",
       "        4.45056856e-02,  2.37917349e-01,  2.96000659e-01,  3.64162922e-01,\n",
       "        3.95909287e-02, -3.79839391e-01,  5.15972197e-01,  1.41213655e-01,\n",
       "        2.25744888e-01,  2.39438340e-01,  3.49705279e-01,  2.03275099e-01,\n",
       "       -3.55553091e-01,  5.57013378e-02, -1.30088896e-01,  2.33751178e-01,\n",
       "       -7.50293732e-02, -2.68549677e-02, -5.00193596e-01,  2.84270883e-01,\n",
       "       -9.07491297e-02, -3.87381077e-01, -1.86860234e-01,  5.37766740e-02,\n",
       "        3.81248444e-02,  3.16984117e-01,  9.56270844e-04,  1.75311156e-02,\n",
       "       -3.56291905e-02,  1.02745764e-01, -8.78607929e-02,  4.70154881e-02,\n",
       "       -8.44551623e-03,  1.86332315e-01,  3.74367058e-01,  2.63312548e-01,\n",
       "        1.22289658e-01,  2.93818861e-03,  3.06388959e-02,  9.88010764e-02,\n",
       "        1.74340516e-01, -3.02492492e-02, -5.71015738e-02,  2.71986395e-01,\n",
       "        2.45295931e-02, -2.71382034e-01, -1.95616096e-01, -1.16733439e-01,\n",
       "        6.68551624e-02,  8.11809152e-02, -9.34301466e-02, -9.47011486e-02,\n",
       "        1.88159198e-01,  2.66301304e-01,  4.88943428e-01, -2.29190499e-01,\n",
       "       -4.36830193e-01, -4.65635061e-01, -1.82613686e-01, -3.70509684e-01,\n",
       "        2.15075031e-01, -1.22529753e-01,  4.03167993e-01,  1.09498754e-01,\n",
       "        1.46691680e-01,  1.71193779e-01,  7.87114128e-02, -9.59769934e-02,\n",
       "       -4.20690686e-01, -2.20919073e-01, -4.10934329e-01, -3.39864343e-01,\n",
       "       -5.38940094e-02, -9.24462378e-02, -3.78753304e-01, -2.94763863e-01,\n",
       "        1.28355831e-01,  1.37973391e-03,  6.99457079e-02,  2.57806718e-01,\n",
       "       -3.14809114e-01,  2.66969025e-01,  2.94570297e-01,  1.43052265e-01,\n",
       "        5.06310463e-01,  2.21060991e-01, -7.62427896e-02, -2.39961669e-01,\n",
       "       -1.32457346e-01,  3.43307376e-01, -2.33050466e-01,  9.18047726e-02,\n",
       "       -9.93920982e-01, -3.15093756e-01, -2.29672343e-03,  1.44262742e-02,\n",
       "       -1.83929414e-01,  2.11072162e-01,  8.26882601e-01, -8.36357474e-03,\n",
       "        2.04458594e-01,  2.11279154e-01,  1.03743479e-01,  2.19350755e-02,\n",
       "        7.68174157e-02, -5.96948192e-02, -3.31164271e-01, -4.91311044e-01,\n",
       "        4.34342846e-02,  5.60355484e-01,  5.39885089e-02, -4.56263661e-01,\n",
       "        1.12526819e-01,  3.40597689e-01,  4.24997136e-02, -1.29158571e-01,\n",
       "       -1.40532136e-01, -9.74460244e-02,  2.51930565e-01,  3.48282456e-01],\n",
       "      dtype=float32)"
      ]
     },
     "execution_count": 85,
     "metadata": {},
     "output_type": "execute_result"
    }
   ],
   "source": [
    "np.array(features.last_hidden_state[0][0])"
   ]
  }
 ],
 "metadata": {
  "kernelspec": {
   "display_name": "Python 3",
   "language": "python",
   "name": "python3"
  },
  "language_info": {
   "codemirror_mode": {
    "name": "ipython",
    "version": 3
   },
   "file_extension": ".py",
   "mimetype": "text/x-python",
   "name": "python",
   "nbconvert_exporter": "python",
   "pygments_lexer": "ipython3",
   "version": "3.11.5"
  }
 },
 "nbformat": 4,
 "nbformat_minor": 2
}
